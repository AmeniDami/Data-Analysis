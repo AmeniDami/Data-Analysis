{
 "cells": [
  {
   "cell_type": "code",
   "execution_count": 67,
   "id": "11b0d5bf",
   "metadata": {},
   "outputs": [],
   "source": [
    "import numpy as np\n",
    "import pandas as pd \n",
    "import matplotlib.pyplot as plt\n",
    "import seaborn as sns\n",
    "from sklearn.preprocessing import LabelEncoder #la fonction qu'on va utiliser pour pouvoir transformer nos valeurs catégorie en des valeurs numériquees\n",
    "import folium\n",
    "from folium import Choropleth,Circle,Marker"
   ]
  },
  {
   "cell_type": "code",
   "execution_count": 5,
   "id": "aadedb8e",
   "metadata": {},
   "outputs": [],
   "source": [
    "data= pd.read_csv('Murders.csv')"
   ]
  },
  {
   "cell_type": "code",
   "execution_count": 6,
   "id": "8fb11c6b",
   "metadata": {},
   "outputs": [
    {
     "data": {
      "text/html": [
       "<div>\n",
       "<style scoped>\n",
       "    .dataframe tbody tr th:only-of-type {\n",
       "        vertical-align: middle;\n",
       "    }\n",
       "\n",
       "    .dataframe tbody tr th {\n",
       "        vertical-align: top;\n",
       "    }\n",
       "\n",
       "    .dataframe thead th {\n",
       "        text-align: right;\n",
       "    }\n",
       "</style>\n",
       "<table border=\"1\" class=\"dataframe\">\n",
       "  <thead>\n",
       "    <tr style=\"text-align: right;\">\n",
       "      <th></th>\n",
       "      <th>Unnamed: 0</th>\n",
       "      <th>Record ID</th>\n",
       "      <th>Agency Code</th>\n",
       "      <th>Agency Name</th>\n",
       "      <th>Agency Type</th>\n",
       "      <th>City</th>\n",
       "      <th>State</th>\n",
       "      <th>Year</th>\n",
       "      <th>Month</th>\n",
       "      <th>Incident</th>\n",
       "      <th>...</th>\n",
       "      <th>Victim Ethnicity</th>\n",
       "      <th>Perpetrator Sex</th>\n",
       "      <th>Perpetrator Age</th>\n",
       "      <th>Perpetrator Race</th>\n",
       "      <th>Perpetrator Ethnicity</th>\n",
       "      <th>Relationship</th>\n",
       "      <th>Weapon</th>\n",
       "      <th>Victim Count</th>\n",
       "      <th>Perpetrator Count</th>\n",
       "      <th>Record Source</th>\n",
       "    </tr>\n",
       "  </thead>\n",
       "  <tbody>\n",
       "    <tr>\n",
       "      <th>0</th>\n",
       "      <td>384897</td>\n",
       "      <td>384898</td>\n",
       "      <td>SC02100</td>\n",
       "      <td>Florence</td>\n",
       "      <td>Sheriff</td>\n",
       "      <td>Florence</td>\n",
       "      <td>South Carolina</td>\n",
       "      <td>1998</td>\n",
       "      <td>January</td>\n",
       "      <td>1</td>\n",
       "      <td>...</td>\n",
       "      <td>Unknown</td>\n",
       "      <td>Male</td>\n",
       "      <td>33</td>\n",
       "      <td>White</td>\n",
       "      <td>Unknown</td>\n",
       "      <td>Acquaintance</td>\n",
       "      <td>Blunt Object</td>\n",
       "      <td>0</td>\n",
       "      <td>0</td>\n",
       "      <td>FBI</td>\n",
       "    </tr>\n",
       "    <tr>\n",
       "      <th>1</th>\n",
       "      <td>580401</td>\n",
       "      <td>580402</td>\n",
       "      <td>AZ01003</td>\n",
       "      <td>Tucson</td>\n",
       "      <td>Municipal Police</td>\n",
       "      <td>Pima</td>\n",
       "      <td>Arizona</td>\n",
       "      <td>2011</td>\n",
       "      <td>November</td>\n",
       "      <td>1</td>\n",
       "      <td>...</td>\n",
       "      <td>Not Hispanic</td>\n",
       "      <td>Male</td>\n",
       "      <td>21</td>\n",
       "      <td>Native American/Alaska Native</td>\n",
       "      <td>Not Hispanic</td>\n",
       "      <td>Family</td>\n",
       "      <td>Shotgun</td>\n",
       "      <td>0</td>\n",
       "      <td>0</td>\n",
       "      <td>FBI</td>\n",
       "    </tr>\n",
       "    <tr>\n",
       "      <th>2</th>\n",
       "      <td>236203</td>\n",
       "      <td>236204</td>\n",
       "      <td>OHCLP00</td>\n",
       "      <td>Cleveland</td>\n",
       "      <td>Municipal Police</td>\n",
       "      <td>Cuyahoga</td>\n",
       "      <td>Ohio</td>\n",
       "      <td>1991</td>\n",
       "      <td>July</td>\n",
       "      <td>12</td>\n",
       "      <td>...</td>\n",
       "      <td>Unknown</td>\n",
       "      <td>Male</td>\n",
       "      <td>48</td>\n",
       "      <td>White</td>\n",
       "      <td>Unknown</td>\n",
       "      <td>Acquaintance</td>\n",
       "      <td>Knife</td>\n",
       "      <td>0</td>\n",
       "      <td>0</td>\n",
       "      <td>FBI</td>\n",
       "    </tr>\n",
       "    <tr>\n",
       "      <th>3</th>\n",
       "      <td>440437</td>\n",
       "      <td>440438</td>\n",
       "      <td>MA01301</td>\n",
       "      <td>Boston</td>\n",
       "      <td>Municipal Police</td>\n",
       "      <td>Suffolk</td>\n",
       "      <td>Massachusetts</td>\n",
       "      <td>2002</td>\n",
       "      <td>January</td>\n",
       "      <td>5</td>\n",
       "      <td>...</td>\n",
       "      <td>Unknown</td>\n",
       "      <td>Male</td>\n",
       "      <td>46</td>\n",
       "      <td>White</td>\n",
       "      <td>Unknown</td>\n",
       "      <td>Wife</td>\n",
       "      <td>Strangulation</td>\n",
       "      <td>0</td>\n",
       "      <td>0</td>\n",
       "      <td>FBI</td>\n",
       "    </tr>\n",
       "    <tr>\n",
       "      <th>4</th>\n",
       "      <td>276041</td>\n",
       "      <td>276042</td>\n",
       "      <td>IN04600</td>\n",
       "      <td>La Porte</td>\n",
       "      <td>Sheriff</td>\n",
       "      <td>La Porte</td>\n",
       "      <td>Indiana</td>\n",
       "      <td>1993</td>\n",
       "      <td>January</td>\n",
       "      <td>1</td>\n",
       "      <td>...</td>\n",
       "      <td>Unknown</td>\n",
       "      <td>Male</td>\n",
       "      <td>26</td>\n",
       "      <td>White</td>\n",
       "      <td>Unknown</td>\n",
       "      <td>Acquaintance</td>\n",
       "      <td>Shotgun</td>\n",
       "      <td>0</td>\n",
       "      <td>0</td>\n",
       "      <td>FBI</td>\n",
       "    </tr>\n",
       "  </tbody>\n",
       "</table>\n",
       "<p>5 rows × 25 columns</p>\n",
       "</div>"
      ],
      "text/plain": [
       "   Unnamed: 0  Record ID Agency Code Agency Name       Agency Type      City  \\\n",
       "0      384897     384898     SC02100    Florence           Sheriff  Florence   \n",
       "1      580401     580402     AZ01003      Tucson  Municipal Police      Pima   \n",
       "2      236203     236204     OHCLP00   Cleveland  Municipal Police  Cuyahoga   \n",
       "3      440437     440438     MA01301      Boston  Municipal Police   Suffolk   \n",
       "4      276041     276042     IN04600    La Porte           Sheriff  La Porte   \n",
       "\n",
       "            State  Year     Month  Incident  ... Victim Ethnicity  \\\n",
       "0  South Carolina  1998   January         1  ...          Unknown   \n",
       "1         Arizona  2011  November         1  ...     Not Hispanic   \n",
       "2            Ohio  1991      July        12  ...          Unknown   \n",
       "3   Massachusetts  2002   January         5  ...          Unknown   \n",
       "4         Indiana  1993   January         1  ...          Unknown   \n",
       "\n",
       "  Perpetrator Sex Perpetrator Age               Perpetrator Race  \\\n",
       "0            Male              33                          White   \n",
       "1            Male              21  Native American/Alaska Native   \n",
       "2            Male              48                          White   \n",
       "3            Male              46                          White   \n",
       "4            Male              26                          White   \n",
       "\n",
       "  Perpetrator Ethnicity  Relationship         Weapon  Victim Count  \\\n",
       "0               Unknown  Acquaintance   Blunt Object             0   \n",
       "1          Not Hispanic        Family        Shotgun             0   \n",
       "2               Unknown  Acquaintance          Knife             0   \n",
       "3               Unknown          Wife  Strangulation             0   \n",
       "4               Unknown  Acquaintance        Shotgun             0   \n",
       "\n",
       "  Perpetrator Count Record Source  \n",
       "0                 0           FBI  \n",
       "1                 0           FBI  \n",
       "2                 0           FBI  \n",
       "3                 0           FBI  \n",
       "4                 0           FBI  \n",
       "\n",
       "[5 rows x 25 columns]"
      ]
     },
     "execution_count": 6,
     "metadata": {},
     "output_type": "execute_result"
    }
   ],
   "source": [
    "data.head()"
   ]
  },
  {
   "cell_type": "code",
   "execution_count": 7,
   "id": "b994b6c8",
   "metadata": {},
   "outputs": [
    {
     "name": "stdout",
     "output_type": "stream",
     "text": [
      "<class 'pandas.core.frame.DataFrame'>\n",
      "RangeIndex: 10000 entries, 0 to 9999\n",
      "Data columns (total 25 columns):\n",
      " #   Column                 Non-Null Count  Dtype \n",
      "---  ------                 --------------  ----- \n",
      " 0   Unnamed: 0             10000 non-null  int64 \n",
      " 1   Record ID              10000 non-null  int64 \n",
      " 2   Agency Code            10000 non-null  object\n",
      " 3   Agency Name            10000 non-null  object\n",
      " 4   Agency Type            10000 non-null  object\n",
      " 5   City                   10000 non-null  object\n",
      " 6   State                  10000 non-null  object\n",
      " 7   Year                   10000 non-null  int64 \n",
      " 8   Month                  10000 non-null  object\n",
      " 9   Incident               10000 non-null  int64 \n",
      " 10  Crime Type             10000 non-null  object\n",
      " 11  Crime Solved           10000 non-null  object\n",
      " 12  Victim Sex             10000 non-null  object\n",
      " 13  Victim Age             10000 non-null  int64 \n",
      " 14  Victim Race            10000 non-null  object\n",
      " 15  Victim Ethnicity       10000 non-null  object\n",
      " 16  Perpetrator Sex        10000 non-null  object\n",
      " 17  Perpetrator Age        10000 non-null  int64 \n",
      " 18  Perpetrator Race       10000 non-null  object\n",
      " 19  Perpetrator Ethnicity  10000 non-null  object\n",
      " 20  Relationship           10000 non-null  object\n",
      " 21  Weapon                 10000 non-null  object\n",
      " 22  Victim Count           10000 non-null  int64 \n",
      " 23  Perpetrator Count      10000 non-null  int64 \n",
      " 24  Record Source          10000 non-null  object\n",
      "dtypes: int64(8), object(17)\n",
      "memory usage: 1.9+ MB\n"
     ]
    }
   ],
   "source": [
    "data.info()"
   ]
  },
  {
   "cell_type": "code",
   "execution_count": 8,
   "id": "33f5f8ec",
   "metadata": {},
   "outputs": [
    {
     "data": {
      "text/plain": [
       "Unnamed: 0               0\n",
       "Record ID                0\n",
       "Agency Code              0\n",
       "Agency Name              0\n",
       "Agency Type              0\n",
       "City                     0\n",
       "State                    0\n",
       "Year                     0\n",
       "Month                    0\n",
       "Incident                 0\n",
       "Crime Type               0\n",
       "Crime Solved             0\n",
       "Victim Sex               0\n",
       "Victim Age               0\n",
       "Victim Race              0\n",
       "Victim Ethnicity         0\n",
       "Perpetrator Sex          0\n",
       "Perpetrator Age          0\n",
       "Perpetrator Race         0\n",
       "Perpetrator Ethnicity    0\n",
       "Relationship             0\n",
       "Weapon                   0\n",
       "Victim Count             0\n",
       "Perpetrator Count        0\n",
       "Record Source            0\n",
       "dtype: int64"
      ]
     },
     "execution_count": 8,
     "metadata": {},
     "output_type": "execute_result"
    }
   ],
   "source": [
    "data.isnull().sum()"
   ]
  },
  {
   "cell_type": "code",
   "execution_count": 10,
   "id": "d160ac2d",
   "metadata": {},
   "outputs": [
    {
     "data": {
      "text/html": [
       "<div>\n",
       "<style scoped>\n",
       "    .dataframe tbody tr th:only-of-type {\n",
       "        vertical-align: middle;\n",
       "    }\n",
       "\n",
       "    .dataframe tbody tr th {\n",
       "        vertical-align: top;\n",
       "    }\n",
       "\n",
       "    .dataframe thead th {\n",
       "        text-align: right;\n",
       "    }\n",
       "</style>\n",
       "<table border=\"1\" class=\"dataframe\">\n",
       "  <thead>\n",
       "    <tr style=\"text-align: right;\">\n",
       "      <th></th>\n",
       "      <th>Unnamed: 0</th>\n",
       "      <th>Record ID</th>\n",
       "      <th>Agency Code</th>\n",
       "      <th>Agency Name</th>\n",
       "      <th>Agency Type</th>\n",
       "      <th>City</th>\n",
       "      <th>State</th>\n",
       "      <th>Year</th>\n",
       "      <th>Month</th>\n",
       "      <th>Incident</th>\n",
       "      <th>...</th>\n",
       "      <th>Victim Ethnicity</th>\n",
       "      <th>Perpetrator Sex</th>\n",
       "      <th>Perpetrator Age</th>\n",
       "      <th>Perpetrator Race</th>\n",
       "      <th>Perpetrator Ethnicity</th>\n",
       "      <th>Relationship</th>\n",
       "      <th>Weapon</th>\n",
       "      <th>Victim Count</th>\n",
       "      <th>Perpetrator Count</th>\n",
       "      <th>Record Source</th>\n",
       "    </tr>\n",
       "  </thead>\n",
       "  <tbody>\n",
       "    <tr>\n",
       "      <th>0</th>\n",
       "      <td>384897</td>\n",
       "      <td>384898</td>\n",
       "      <td>SC02100</td>\n",
       "      <td>Florence</td>\n",
       "      <td>Sheriff</td>\n",
       "      <td>Florence</td>\n",
       "      <td>South Carolina</td>\n",
       "      <td>1998</td>\n",
       "      <td>January</td>\n",
       "      <td>1</td>\n",
       "      <td>...</td>\n",
       "      <td>NaN</td>\n",
       "      <td>Male</td>\n",
       "      <td>33</td>\n",
       "      <td>White</td>\n",
       "      <td>NaN</td>\n",
       "      <td>Acquaintance</td>\n",
       "      <td>Blunt Object</td>\n",
       "      <td>0</td>\n",
       "      <td>0</td>\n",
       "      <td>FBI</td>\n",
       "    </tr>\n",
       "    <tr>\n",
       "      <th>1</th>\n",
       "      <td>580401</td>\n",
       "      <td>580402</td>\n",
       "      <td>AZ01003</td>\n",
       "      <td>Tucson</td>\n",
       "      <td>Municipal Police</td>\n",
       "      <td>Pima</td>\n",
       "      <td>Arizona</td>\n",
       "      <td>2011</td>\n",
       "      <td>November</td>\n",
       "      <td>1</td>\n",
       "      <td>...</td>\n",
       "      <td>Not Hispanic</td>\n",
       "      <td>Male</td>\n",
       "      <td>21</td>\n",
       "      <td>Native American/Alaska Native</td>\n",
       "      <td>Not Hispanic</td>\n",
       "      <td>Family</td>\n",
       "      <td>Shotgun</td>\n",
       "      <td>0</td>\n",
       "      <td>0</td>\n",
       "      <td>FBI</td>\n",
       "    </tr>\n",
       "    <tr>\n",
       "      <th>2</th>\n",
       "      <td>236203</td>\n",
       "      <td>236204</td>\n",
       "      <td>OHCLP00</td>\n",
       "      <td>Cleveland</td>\n",
       "      <td>Municipal Police</td>\n",
       "      <td>Cuyahoga</td>\n",
       "      <td>Ohio</td>\n",
       "      <td>1991</td>\n",
       "      <td>July</td>\n",
       "      <td>12</td>\n",
       "      <td>...</td>\n",
       "      <td>NaN</td>\n",
       "      <td>Male</td>\n",
       "      <td>48</td>\n",
       "      <td>White</td>\n",
       "      <td>NaN</td>\n",
       "      <td>Acquaintance</td>\n",
       "      <td>Knife</td>\n",
       "      <td>0</td>\n",
       "      <td>0</td>\n",
       "      <td>FBI</td>\n",
       "    </tr>\n",
       "    <tr>\n",
       "      <th>3</th>\n",
       "      <td>440437</td>\n",
       "      <td>440438</td>\n",
       "      <td>MA01301</td>\n",
       "      <td>Boston</td>\n",
       "      <td>Municipal Police</td>\n",
       "      <td>Suffolk</td>\n",
       "      <td>Massachusetts</td>\n",
       "      <td>2002</td>\n",
       "      <td>January</td>\n",
       "      <td>5</td>\n",
       "      <td>...</td>\n",
       "      <td>NaN</td>\n",
       "      <td>Male</td>\n",
       "      <td>46</td>\n",
       "      <td>White</td>\n",
       "      <td>NaN</td>\n",
       "      <td>Wife</td>\n",
       "      <td>Strangulation</td>\n",
       "      <td>0</td>\n",
       "      <td>0</td>\n",
       "      <td>FBI</td>\n",
       "    </tr>\n",
       "    <tr>\n",
       "      <th>4</th>\n",
       "      <td>276041</td>\n",
       "      <td>276042</td>\n",
       "      <td>IN04600</td>\n",
       "      <td>La Porte</td>\n",
       "      <td>Sheriff</td>\n",
       "      <td>La Porte</td>\n",
       "      <td>Indiana</td>\n",
       "      <td>1993</td>\n",
       "      <td>January</td>\n",
       "      <td>1</td>\n",
       "      <td>...</td>\n",
       "      <td>NaN</td>\n",
       "      <td>Male</td>\n",
       "      <td>26</td>\n",
       "      <td>White</td>\n",
       "      <td>NaN</td>\n",
       "      <td>Acquaintance</td>\n",
       "      <td>Shotgun</td>\n",
       "      <td>0</td>\n",
       "      <td>0</td>\n",
       "      <td>FBI</td>\n",
       "    </tr>\n",
       "    <tr>\n",
       "      <th>...</th>\n",
       "      <td>...</td>\n",
       "      <td>...</td>\n",
       "      <td>...</td>\n",
       "      <td>...</td>\n",
       "      <td>...</td>\n",
       "      <td>...</td>\n",
       "      <td>...</td>\n",
       "      <td>...</td>\n",
       "      <td>...</td>\n",
       "      <td>...</td>\n",
       "      <td>...</td>\n",
       "      <td>...</td>\n",
       "      <td>...</td>\n",
       "      <td>...</td>\n",
       "      <td>...</td>\n",
       "      <td>...</td>\n",
       "      <td>...</td>\n",
       "      <td>...</td>\n",
       "      <td>...</td>\n",
       "      <td>...</td>\n",
       "      <td>...</td>\n",
       "    </tr>\n",
       "    <tr>\n",
       "      <th>9995</th>\n",
       "      <td>251135</td>\n",
       "      <td>251136</td>\n",
       "      <td>ILCPD00</td>\n",
       "      <td>Chicago</td>\n",
       "      <td>Municipal Police</td>\n",
       "      <td>Cook</td>\n",
       "      <td>Illinois</td>\n",
       "      <td>1992</td>\n",
       "      <td>March</td>\n",
       "      <td>48</td>\n",
       "      <td>...</td>\n",
       "      <td>NaN</td>\n",
       "      <td>NaN</td>\n",
       "      <td>0</td>\n",
       "      <td>NaN</td>\n",
       "      <td>NaN</td>\n",
       "      <td>NaN</td>\n",
       "      <td>Handgun</td>\n",
       "      <td>0</td>\n",
       "      <td>0</td>\n",
       "      <td>FBI</td>\n",
       "    </tr>\n",
       "    <tr>\n",
       "      <th>9996</th>\n",
       "      <td>360652</td>\n",
       "      <td>360653</td>\n",
       "      <td>ILCPD00</td>\n",
       "      <td>Chicago</td>\n",
       "      <td>Municipal Police</td>\n",
       "      <td>Cook</td>\n",
       "      <td>Illinois</td>\n",
       "      <td>1997</td>\n",
       "      <td>August</td>\n",
       "      <td>14</td>\n",
       "      <td>...</td>\n",
       "      <td>NaN</td>\n",
       "      <td>NaN</td>\n",
       "      <td>0</td>\n",
       "      <td>NaN</td>\n",
       "      <td>NaN</td>\n",
       "      <td>NaN</td>\n",
       "      <td>Handgun</td>\n",
       "      <td>0</td>\n",
       "      <td>0</td>\n",
       "      <td>FBI</td>\n",
       "    </tr>\n",
       "    <tr>\n",
       "      <th>9997</th>\n",
       "      <td>80187</td>\n",
       "      <td>80188</td>\n",
       "      <td>PAPEP00</td>\n",
       "      <td>Philadelphia</td>\n",
       "      <td>Municipal Police</td>\n",
       "      <td>Philadelphia</td>\n",
       "      <td>Pennsylvania</td>\n",
       "      <td>1983</td>\n",
       "      <td>June</td>\n",
       "      <td>11</td>\n",
       "      <td>...</td>\n",
       "      <td>Not Hispanic</td>\n",
       "      <td>Female</td>\n",
       "      <td>39</td>\n",
       "      <td>Black</td>\n",
       "      <td>Not Hispanic</td>\n",
       "      <td>Husband</td>\n",
       "      <td>Knife</td>\n",
       "      <td>0</td>\n",
       "      <td>0</td>\n",
       "      <td>FBI</td>\n",
       "    </tr>\n",
       "    <tr>\n",
       "      <th>9998</th>\n",
       "      <td>273932</td>\n",
       "      <td>273933</td>\n",
       "      <td>FL05900</td>\n",
       "      <td>Seminole</td>\n",
       "      <td>Sheriff</td>\n",
       "      <td>Seminole</td>\n",
       "      <td>Florida</td>\n",
       "      <td>1993</td>\n",
       "      <td>February</td>\n",
       "      <td>1</td>\n",
       "      <td>...</td>\n",
       "      <td>NaN</td>\n",
       "      <td>Male</td>\n",
       "      <td>38</td>\n",
       "      <td>White</td>\n",
       "      <td>NaN</td>\n",
       "      <td>Wife</td>\n",
       "      <td>Handgun</td>\n",
       "      <td>0</td>\n",
       "      <td>0</td>\n",
       "      <td>FBI</td>\n",
       "    </tr>\n",
       "    <tr>\n",
       "      <th>9999</th>\n",
       "      <td>446632</td>\n",
       "      <td>446633</td>\n",
       "      <td>TN06301</td>\n",
       "      <td>Clarksville</td>\n",
       "      <td>Municipal Police</td>\n",
       "      <td>Montgomery</td>\n",
       "      <td>Tennessee</td>\n",
       "      <td>2002</td>\n",
       "      <td>June</td>\n",
       "      <td>1</td>\n",
       "      <td>...</td>\n",
       "      <td>NaN</td>\n",
       "      <td>Male</td>\n",
       "      <td>37</td>\n",
       "      <td>White</td>\n",
       "      <td>NaN</td>\n",
       "      <td>Girlfriend</td>\n",
       "      <td>Knife</td>\n",
       "      <td>0</td>\n",
       "      <td>0</td>\n",
       "      <td>FBI</td>\n",
       "    </tr>\n",
       "  </tbody>\n",
       "</table>\n",
       "<p>10000 rows × 25 columns</p>\n",
       "</div>"
      ],
      "text/plain": [
       "      Unnamed: 0  Record ID Agency Code   Agency Name       Agency Type  \\\n",
       "0         384897     384898     SC02100      Florence           Sheriff   \n",
       "1         580401     580402     AZ01003        Tucson  Municipal Police   \n",
       "2         236203     236204     OHCLP00     Cleveland  Municipal Police   \n",
       "3         440437     440438     MA01301        Boston  Municipal Police   \n",
       "4         276041     276042     IN04600      La Porte           Sheriff   \n",
       "...          ...        ...         ...           ...               ...   \n",
       "9995      251135     251136     ILCPD00       Chicago  Municipal Police   \n",
       "9996      360652     360653     ILCPD00       Chicago  Municipal Police   \n",
       "9997       80187      80188     PAPEP00  Philadelphia  Municipal Police   \n",
       "9998      273932     273933     FL05900      Seminole           Sheriff   \n",
       "9999      446632     446633     TN06301   Clarksville  Municipal Police   \n",
       "\n",
       "              City           State  Year     Month  Incident  ...  \\\n",
       "0         Florence  South Carolina  1998   January         1  ...   \n",
       "1             Pima         Arizona  2011  November         1  ...   \n",
       "2         Cuyahoga            Ohio  1991      July        12  ...   \n",
       "3          Suffolk   Massachusetts  2002   January         5  ...   \n",
       "4         La Porte         Indiana  1993   January         1  ...   \n",
       "...            ...             ...   ...       ...       ...  ...   \n",
       "9995          Cook        Illinois  1992     March        48  ...   \n",
       "9996          Cook        Illinois  1997    August        14  ...   \n",
       "9997  Philadelphia    Pennsylvania  1983      June        11  ...   \n",
       "9998      Seminole         Florida  1993  February         1  ...   \n",
       "9999    Montgomery       Tennessee  2002      June         1  ...   \n",
       "\n",
       "     Victim Ethnicity Perpetrator Sex Perpetrator Age  \\\n",
       "0                 NaN            Male              33   \n",
       "1        Not Hispanic            Male              21   \n",
       "2                 NaN            Male              48   \n",
       "3                 NaN            Male              46   \n",
       "4                 NaN            Male              26   \n",
       "...               ...             ...             ...   \n",
       "9995              NaN             NaN               0   \n",
       "9996              NaN             NaN               0   \n",
       "9997     Not Hispanic          Female              39   \n",
       "9998              NaN            Male              38   \n",
       "9999              NaN            Male              37   \n",
       "\n",
       "                   Perpetrator Race Perpetrator Ethnicity  Relationship  \\\n",
       "0                             White                   NaN  Acquaintance   \n",
       "1     Native American/Alaska Native          Not Hispanic        Family   \n",
       "2                             White                   NaN  Acquaintance   \n",
       "3                             White                   NaN          Wife   \n",
       "4                             White                   NaN  Acquaintance   \n",
       "...                             ...                   ...           ...   \n",
       "9995                            NaN                   NaN           NaN   \n",
       "9996                            NaN                   NaN           NaN   \n",
       "9997                          Black          Not Hispanic       Husband   \n",
       "9998                          White                   NaN          Wife   \n",
       "9999                          White                   NaN    Girlfriend   \n",
       "\n",
       "             Weapon  Victim Count Perpetrator Count Record Source  \n",
       "0      Blunt Object             0                 0           FBI  \n",
       "1           Shotgun             0                 0           FBI  \n",
       "2             Knife             0                 0           FBI  \n",
       "3     Strangulation             0                 0           FBI  \n",
       "4           Shotgun             0                 0           FBI  \n",
       "...             ...           ...               ...           ...  \n",
       "9995        Handgun             0                 0           FBI  \n",
       "9996        Handgun             0                 0           FBI  \n",
       "9997          Knife             0                 0           FBI  \n",
       "9998        Handgun             0                 0           FBI  \n",
       "9999          Knife             0                 0           FBI  \n",
       "\n",
       "[10000 rows x 25 columns]"
      ]
     },
     "execution_count": 10,
     "metadata": {},
     "output_type": "execute_result"
    }
   ],
   "source": [
    "data.replace({'Unknown': np.nan})"
   ]
  },
  {
   "cell_type": "code",
   "execution_count": 18,
   "id": "c2ea9c30",
   "metadata": {},
   "outputs": [],
   "source": [
    "data.dropna(inplace=True)"
   ]
  },
  {
   "cell_type": "code",
   "execution_count": 19,
   "id": "31f49e3b",
   "metadata": {},
   "outputs": [
    {
     "name": "stderr",
     "output_type": "stream",
     "text": [
      "C:\\Users\\Ameni\\AppData\\Local\\Temp\\ipykernel_7356\\3106392754.py:1: FutureWarning: The default value of numeric_only in DataFrame.corr is deprecated. In a future version, it will default to False. Select only valid columns or specify the value of numeric_only to silence this warning.\n",
      "  correlation = data.corr()\n"
     ]
    },
    {
     "data": {
      "text/html": [
       "<div>\n",
       "<style scoped>\n",
       "    .dataframe tbody tr th:only-of-type {\n",
       "        vertical-align: middle;\n",
       "    }\n",
       "\n",
       "    .dataframe tbody tr th {\n",
       "        vertical-align: top;\n",
       "    }\n",
       "\n",
       "    .dataframe thead th {\n",
       "        text-align: right;\n",
       "    }\n",
       "</style>\n",
       "<table border=\"1\" class=\"dataframe\">\n",
       "  <thead>\n",
       "    <tr style=\"text-align: right;\">\n",
       "      <th></th>\n",
       "      <th>Unnamed: 0</th>\n",
       "      <th>Record ID</th>\n",
       "      <th>Year</th>\n",
       "      <th>Incident</th>\n",
       "      <th>Victim Age</th>\n",
       "      <th>Perpetrator Age</th>\n",
       "      <th>Victim Count</th>\n",
       "      <th>Perpetrator Count</th>\n",
       "    </tr>\n",
       "  </thead>\n",
       "  <tbody>\n",
       "    <tr>\n",
       "      <th>Unnamed: 0</th>\n",
       "      <td>1.000000</td>\n",
       "      <td>1.000000</td>\n",
       "      <td>0.997247</td>\n",
       "      <td>0.127992</td>\n",
       "      <td>0.023524</td>\n",
       "      <td>-0.030644</td>\n",
       "      <td>0.038449</td>\n",
       "      <td>0.064372</td>\n",
       "    </tr>\n",
       "    <tr>\n",
       "      <th>Record ID</th>\n",
       "      <td>1.000000</td>\n",
       "      <td>1.000000</td>\n",
       "      <td>0.997247</td>\n",
       "      <td>0.127992</td>\n",
       "      <td>0.023524</td>\n",
       "      <td>-0.030644</td>\n",
       "      <td>0.038449</td>\n",
       "      <td>0.064372</td>\n",
       "    </tr>\n",
       "    <tr>\n",
       "      <th>Year</th>\n",
       "      <td>0.997247</td>\n",
       "      <td>0.997247</td>\n",
       "      <td>1.000000</td>\n",
       "      <td>0.135370</td>\n",
       "      <td>0.025512</td>\n",
       "      <td>-0.028696</td>\n",
       "      <td>0.038766</td>\n",
       "      <td>0.065344</td>\n",
       "    </tr>\n",
       "    <tr>\n",
       "      <th>Incident</th>\n",
       "      <td>0.127992</td>\n",
       "      <td>0.127992</td>\n",
       "      <td>0.135370</td>\n",
       "      <td>1.000000</td>\n",
       "      <td>-0.008796</td>\n",
       "      <td>-0.010514</td>\n",
       "      <td>0.003992</td>\n",
       "      <td>0.007606</td>\n",
       "    </tr>\n",
       "    <tr>\n",
       "      <th>Victim Age</th>\n",
       "      <td>0.023524</td>\n",
       "      <td>0.023524</td>\n",
       "      <td>0.025512</td>\n",
       "      <td>-0.008796</td>\n",
       "      <td>1.000000</td>\n",
       "      <td>0.067236</td>\n",
       "      <td>-0.009183</td>\n",
       "      <td>-0.011100</td>\n",
       "    </tr>\n",
       "    <tr>\n",
       "      <th>Perpetrator Age</th>\n",
       "      <td>-0.030644</td>\n",
       "      <td>-0.030644</td>\n",
       "      <td>-0.028696</td>\n",
       "      <td>-0.010514</td>\n",
       "      <td>0.067236</td>\n",
       "      <td>1.000000</td>\n",
       "      <td>0.016868</td>\n",
       "      <td>0.007359</td>\n",
       "    </tr>\n",
       "    <tr>\n",
       "      <th>Victim Count</th>\n",
       "      <td>0.038449</td>\n",
       "      <td>0.038449</td>\n",
       "      <td>0.038766</td>\n",
       "      <td>0.003992</td>\n",
       "      <td>-0.009183</td>\n",
       "      <td>0.016868</td>\n",
       "      <td>1.000000</td>\n",
       "      <td>0.057516</td>\n",
       "    </tr>\n",
       "    <tr>\n",
       "      <th>Perpetrator Count</th>\n",
       "      <td>0.064372</td>\n",
       "      <td>0.064372</td>\n",
       "      <td>0.065344</td>\n",
       "      <td>0.007606</td>\n",
       "      <td>-0.011100</td>\n",
       "      <td>0.007359</td>\n",
       "      <td>0.057516</td>\n",
       "      <td>1.000000</td>\n",
       "    </tr>\n",
       "  </tbody>\n",
       "</table>\n",
       "</div>"
      ],
      "text/plain": [
       "                   Unnamed: 0  Record ID      Year  Incident  Victim Age  \\\n",
       "Unnamed: 0           1.000000   1.000000  0.997247  0.127992    0.023524   \n",
       "Record ID            1.000000   1.000000  0.997247  0.127992    0.023524   \n",
       "Year                 0.997247   0.997247  1.000000  0.135370    0.025512   \n",
       "Incident             0.127992   0.127992  0.135370  1.000000   -0.008796   \n",
       "Victim Age           0.023524   0.023524  0.025512 -0.008796    1.000000   \n",
       "Perpetrator Age     -0.030644  -0.030644 -0.028696 -0.010514    0.067236   \n",
       "Victim Count         0.038449   0.038449  0.038766  0.003992   -0.009183   \n",
       "Perpetrator Count    0.064372   0.064372  0.065344  0.007606   -0.011100   \n",
       "\n",
       "                   Perpetrator Age  Victim Count  Perpetrator Count  \n",
       "Unnamed: 0               -0.030644      0.038449           0.064372  \n",
       "Record ID                -0.030644      0.038449           0.064372  \n",
       "Year                     -0.028696      0.038766           0.065344  \n",
       "Incident                 -0.010514      0.003992           0.007606  \n",
       "Victim Age                0.067236     -0.009183          -0.011100  \n",
       "Perpetrator Age           1.000000      0.016868           0.007359  \n",
       "Victim Count              0.016868      1.000000           0.057516  \n",
       "Perpetrator Count         0.007359      0.057516           1.000000  "
      ]
     },
     "execution_count": 19,
     "metadata": {},
     "output_type": "execute_result"
    }
   ],
   "source": [
    "correlation = data.corr()\n",
    "correlation"
   ]
  },
  {
   "cell_type": "code",
   "execution_count": 21,
   "id": "0ab52e1d",
   "metadata": {
    "scrolled": true
   },
   "outputs": [
    {
     "data": {
      "text/plain": [
       "Index(['Unnamed: 0', 'Record ID', 'Agency Code', 'Agency Name', 'Agency Type',\n",
       "       'City', 'State', 'Year', 'Month', 'Incident', 'Crime Type',\n",
       "       'Crime Solved', 'Victim Sex', 'Victim Age', 'Victim Race',\n",
       "       'Victim Ethnicity', 'Perpetrator Sex', 'Perpetrator Age',\n",
       "       'Perpetrator Race', 'Perpetrator Ethnicity', 'Relationship', 'Weapon',\n",
       "       'Victim Count', 'Perpetrator Count', 'Record Source'],\n",
       "      dtype='object')"
      ]
     },
     "execution_count": 21,
     "metadata": {},
     "output_type": "execute_result"
    }
   ],
   "source": [
    "data.columns"
   ]
  },
  {
   "cell_type": "code",
   "execution_count": 31,
   "id": "b839c967",
   "metadata": {},
   "outputs": [],
   "source": [
    "le = LabelEncoder()\n",
    "data1 = data.apply(lambda col: le.fit_transform(col.astype(str)))"
   ]
  },
  {
   "cell_type": "code",
   "execution_count": 32,
   "id": "07be4dc7",
   "metadata": {},
   "outputs": [
    {
     "data": {
      "text/html": [
       "<div>\n",
       "<style scoped>\n",
       "    .dataframe tbody tr th:only-of-type {\n",
       "        vertical-align: middle;\n",
       "    }\n",
       "\n",
       "    .dataframe tbody tr th {\n",
       "        vertical-align: top;\n",
       "    }\n",
       "\n",
       "    .dataframe thead th {\n",
       "        text-align: right;\n",
       "    }\n",
       "</style>\n",
       "<table border=\"1\" class=\"dataframe\">\n",
       "  <thead>\n",
       "    <tr style=\"text-align: right;\">\n",
       "      <th></th>\n",
       "      <th>City</th>\n",
       "      <th>State</th>\n",
       "      <th>Year</th>\n",
       "      <th>Month</th>\n",
       "      <th>Incident</th>\n",
       "      <th>Crime Type</th>\n",
       "      <th>Victim Sex</th>\n",
       "      <th>Victim Age</th>\n",
       "      <th>Victim Race</th>\n",
       "      <th>Victim Ethnicity</th>\n",
       "      <th>Perpetrator Sex</th>\n",
       "      <th>Perpetrator Age</th>\n",
       "      <th>Perpetrator Race</th>\n",
       "      <th>Relationship</th>\n",
       "      <th>Victim Count</th>\n",
       "      <th>Perpetrator Count</th>\n",
       "    </tr>\n",
       "  </thead>\n",
       "  <tbody>\n",
       "    <tr>\n",
       "      <th>0</th>\n",
       "      <td>300</td>\n",
       "      <td>40</td>\n",
       "      <td>18</td>\n",
       "      <td>4</td>\n",
       "      <td>0</td>\n",
       "      <td>1</td>\n",
       "      <td>1</td>\n",
       "      <td>27</td>\n",
       "      <td>4</td>\n",
       "      <td>2</td>\n",
       "      <td>1</td>\n",
       "      <td>24</td>\n",
       "      <td>4</td>\n",
       "      <td>0</td>\n",
       "      <td>0</td>\n",
       "      <td>0</td>\n",
       "    </tr>\n",
       "    <tr>\n",
       "      <th>1</th>\n",
       "      <td>673</td>\n",
       "      <td>2</td>\n",
       "      <td>31</td>\n",
       "      <td>9</td>\n",
       "      <td>0</td>\n",
       "      <td>1</td>\n",
       "      <td>1</td>\n",
       "      <td>10</td>\n",
       "      <td>2</td>\n",
       "      <td>1</td>\n",
       "      <td>1</td>\n",
       "      <td>12</td>\n",
       "      <td>2</td>\n",
       "      <td>11</td>\n",
       "      <td>0</td>\n",
       "      <td>0</td>\n",
       "    </tr>\n",
       "    <tr>\n",
       "      <th>2</th>\n",
       "      <td>225</td>\n",
       "      <td>35</td>\n",
       "      <td>11</td>\n",
       "      <td>5</td>\n",
       "      <td>22</td>\n",
       "      <td>1</td>\n",
       "      <td>1</td>\n",
       "      <td>26</td>\n",
       "      <td>4</td>\n",
       "      <td>2</td>\n",
       "      <td>1</td>\n",
       "      <td>39</td>\n",
       "      <td>4</td>\n",
       "      <td>0</td>\n",
       "      <td>0</td>\n",
       "      <td>0</td>\n",
       "    </tr>\n",
       "    <tr>\n",
       "      <th>3</th>\n",
       "      <td>841</td>\n",
       "      <td>21</td>\n",
       "      <td>22</td>\n",
       "      <td>4</td>\n",
       "      <td>190</td>\n",
       "      <td>1</td>\n",
       "      <td>0</td>\n",
       "      <td>40</td>\n",
       "      <td>4</td>\n",
       "      <td>2</td>\n",
       "      <td>1</td>\n",
       "      <td>37</td>\n",
       "      <td>4</td>\n",
       "      <td>27</td>\n",
       "      <td>0</td>\n",
       "      <td>0</td>\n",
       "    </tr>\n",
       "    <tr>\n",
       "      <th>4</th>\n",
       "      <td>463</td>\n",
       "      <td>14</td>\n",
       "      <td>13</td>\n",
       "      <td>4</td>\n",
       "      <td>0</td>\n",
       "      <td>1</td>\n",
       "      <td>1</td>\n",
       "      <td>18</td>\n",
       "      <td>4</td>\n",
       "      <td>2</td>\n",
       "      <td>1</td>\n",
       "      <td>17</td>\n",
       "      <td>4</td>\n",
       "      <td>0</td>\n",
       "      <td>0</td>\n",
       "      <td>0</td>\n",
       "    </tr>\n",
       "    <tr>\n",
       "      <th>...</th>\n",
       "      <td>...</td>\n",
       "      <td>...</td>\n",
       "      <td>...</td>\n",
       "      <td>...</td>\n",
       "      <td>...</td>\n",
       "      <td>...</td>\n",
       "      <td>...</td>\n",
       "      <td>...</td>\n",
       "      <td>...</td>\n",
       "      <td>...</td>\n",
       "      <td>...</td>\n",
       "      <td>...</td>\n",
       "      <td>...</td>\n",
       "      <td>...</td>\n",
       "      <td>...</td>\n",
       "      <td>...</td>\n",
       "    </tr>\n",
       "    <tr>\n",
       "      <th>9995</th>\n",
       "      <td>200</td>\n",
       "      <td>13</td>\n",
       "      <td>12</td>\n",
       "      <td>7</td>\n",
       "      <td>183</td>\n",
       "      <td>1</td>\n",
       "      <td>1</td>\n",
       "      <td>16</td>\n",
       "      <td>1</td>\n",
       "      <td>2</td>\n",
       "      <td>2</td>\n",
       "      <td>0</td>\n",
       "      <td>3</td>\n",
       "      <td>26</td>\n",
       "      <td>0</td>\n",
       "      <td>0</td>\n",
       "    </tr>\n",
       "    <tr>\n",
       "      <th>9996</th>\n",
       "      <td>200</td>\n",
       "      <td>13</td>\n",
       "      <td>17</td>\n",
       "      <td>1</td>\n",
       "      <td>42</td>\n",
       "      <td>1</td>\n",
       "      <td>1</td>\n",
       "      <td>25</td>\n",
       "      <td>1</td>\n",
       "      <td>2</td>\n",
       "      <td>2</td>\n",
       "      <td>0</td>\n",
       "      <td>3</td>\n",
       "      <td>26</td>\n",
       "      <td>0</td>\n",
       "      <td>0</td>\n",
       "    </tr>\n",
       "    <tr>\n",
       "      <th>9997</th>\n",
       "      <td>668</td>\n",
       "      <td>38</td>\n",
       "      <td>3</td>\n",
       "      <td>6</td>\n",
       "      <td>12</td>\n",
       "      <td>1</td>\n",
       "      <td>1</td>\n",
       "      <td>69</td>\n",
       "      <td>1</td>\n",
       "      <td>1</td>\n",
       "      <td>0</td>\n",
       "      <td>30</td>\n",
       "      <td>1</td>\n",
       "      <td>15</td>\n",
       "      <td>0</td>\n",
       "      <td>0</td>\n",
       "    </tr>\n",
       "    <tr>\n",
       "      <th>9998</th>\n",
       "      <td>786</td>\n",
       "      <td>9</td>\n",
       "      <td>13</td>\n",
       "      <td>3</td>\n",
       "      <td>0</td>\n",
       "      <td>1</td>\n",
       "      <td>0</td>\n",
       "      <td>33</td>\n",
       "      <td>4</td>\n",
       "      <td>2</td>\n",
       "      <td>1</td>\n",
       "      <td>29</td>\n",
       "      <td>4</td>\n",
       "      <td>27</td>\n",
       "      <td>0</td>\n",
       "      <td>0</td>\n",
       "    </tr>\n",
       "    <tr>\n",
       "      <th>9999</th>\n",
       "      <td>584</td>\n",
       "      <td>42</td>\n",
       "      <td>22</td>\n",
       "      <td>6</td>\n",
       "      <td>0</td>\n",
       "      <td>1</td>\n",
       "      <td>0</td>\n",
       "      <td>33</td>\n",
       "      <td>4</td>\n",
       "      <td>2</td>\n",
       "      <td>1</td>\n",
       "      <td>28</td>\n",
       "      <td>4</td>\n",
       "      <td>14</td>\n",
       "      <td>0</td>\n",
       "      <td>0</td>\n",
       "    </tr>\n",
       "  </tbody>\n",
       "</table>\n",
       "<p>10000 rows × 16 columns</p>\n",
       "</div>"
      ],
      "text/plain": [
       "      City  State  Year  Month  Incident  Crime Type  Victim Sex  Victim Age  \\\n",
       "0      300     40    18      4         0           1           1          27   \n",
       "1      673      2    31      9         0           1           1          10   \n",
       "2      225     35    11      5        22           1           1          26   \n",
       "3      841     21    22      4       190           1           0          40   \n",
       "4      463     14    13      4         0           1           1          18   \n",
       "...    ...    ...   ...    ...       ...         ...         ...         ...   \n",
       "9995   200     13    12      7       183           1           1          16   \n",
       "9996   200     13    17      1        42           1           1          25   \n",
       "9997   668     38     3      6        12           1           1          69   \n",
       "9998   786      9    13      3         0           1           0          33   \n",
       "9999   584     42    22      6         0           1           0          33   \n",
       "\n",
       "      Victim Race  Victim Ethnicity  Perpetrator Sex  Perpetrator Age  \\\n",
       "0               4                 2                1               24   \n",
       "1               2                 1                1               12   \n",
       "2               4                 2                1               39   \n",
       "3               4                 2                1               37   \n",
       "4               4                 2                1               17   \n",
       "...           ...               ...              ...              ...   \n",
       "9995            1                 2                2                0   \n",
       "9996            1                 2                2                0   \n",
       "9997            1                 1                0               30   \n",
       "9998            4                 2                1               29   \n",
       "9999            4                 2                1               28   \n",
       "\n",
       "      Perpetrator Race  Relationship  Victim Count  Perpetrator Count  \n",
       "0                    4             0             0                  0  \n",
       "1                    2            11             0                  0  \n",
       "2                    4             0             0                  0  \n",
       "3                    4            27             0                  0  \n",
       "4                    4             0             0                  0  \n",
       "...                ...           ...           ...                ...  \n",
       "9995                 3            26             0                  0  \n",
       "9996                 3            26             0                  0  \n",
       "9997                 1            15             0                  0  \n",
       "9998                 4            27             0                  0  \n",
       "9999                 4            14             0                  0  \n",
       "\n",
       "[10000 rows x 16 columns]"
      ]
     },
     "execution_count": 32,
     "metadata": {},
     "output_type": "execute_result"
    }
   ],
   "source": [
    "data1"
   ]
  },
  {
   "cell_type": "code",
   "execution_count": 34,
   "id": "c9541da9",
   "metadata": {},
   "outputs": [
    {
     "data": {
      "text/html": [
       "<div>\n",
       "<style scoped>\n",
       "    .dataframe tbody tr th:only-of-type {\n",
       "        vertical-align: middle;\n",
       "    }\n",
       "\n",
       "    .dataframe tbody tr th {\n",
       "        vertical-align: top;\n",
       "    }\n",
       "\n",
       "    .dataframe thead th {\n",
       "        text-align: right;\n",
       "    }\n",
       "</style>\n",
       "<table border=\"1\" class=\"dataframe\">\n",
       "  <thead>\n",
       "    <tr style=\"text-align: right;\">\n",
       "      <th></th>\n",
       "      <th>City</th>\n",
       "      <th>State</th>\n",
       "      <th>Year</th>\n",
       "      <th>Month</th>\n",
       "      <th>Incident</th>\n",
       "      <th>Crime Type</th>\n",
       "      <th>Victim Sex</th>\n",
       "      <th>Victim Age</th>\n",
       "      <th>Victim Race</th>\n",
       "      <th>Victim Ethnicity</th>\n",
       "      <th>Perpetrator Sex</th>\n",
       "      <th>Perpetrator Age</th>\n",
       "      <th>Perpetrator Race</th>\n",
       "      <th>Relationship</th>\n",
       "      <th>Victim Count</th>\n",
       "      <th>Perpetrator Count</th>\n",
       "    </tr>\n",
       "  </thead>\n",
       "  <tbody>\n",
       "    <tr>\n",
       "      <th>City</th>\n",
       "      <td>1.000000</td>\n",
       "      <td>0.014157</td>\n",
       "      <td>-0.010838</td>\n",
       "      <td>-0.005137</td>\n",
       "      <td>-0.015589</td>\n",
       "      <td>0.007507</td>\n",
       "      <td>-0.002807</td>\n",
       "      <td>0.001825</td>\n",
       "      <td>0.034106</td>\n",
       "      <td>-0.035678</td>\n",
       "      <td>-0.019426</td>\n",
       "      <td>0.003125</td>\n",
       "      <td>0.016968</td>\n",
       "      <td>-0.019018</td>\n",
       "      <td>0.007264</td>\n",
       "      <td>0.024455</td>\n",
       "    </tr>\n",
       "    <tr>\n",
       "      <th>State</th>\n",
       "      <td>0.014157</td>\n",
       "      <td>1.000000</td>\n",
       "      <td>-0.009510</td>\n",
       "      <td>-0.001167</td>\n",
       "      <td>-0.099136</td>\n",
       "      <td>-0.002488</td>\n",
       "      <td>-0.032049</td>\n",
       "      <td>0.015106</td>\n",
       "      <td>-0.015343</td>\n",
       "      <td>0.118512</td>\n",
       "      <td>-0.092052</td>\n",
       "      <td>0.082101</td>\n",
       "      <td>-0.023186</td>\n",
       "      <td>-0.129560</td>\n",
       "      <td>0.027549</td>\n",
       "      <td>0.022586</td>\n",
       "    </tr>\n",
       "    <tr>\n",
       "      <th>Year</th>\n",
       "      <td>-0.010838</td>\n",
       "      <td>-0.009510</td>\n",
       "      <td>1.000000</td>\n",
       "      <td>0.013218</td>\n",
       "      <td>0.011880</td>\n",
       "      <td>-0.028845</td>\n",
       "      <td>0.025315</td>\n",
       "      <td>-0.003383</td>\n",
       "      <td>-0.046304</td>\n",
       "      <td>0.143406</td>\n",
       "      <td>0.043429</td>\n",
       "      <td>-0.019711</td>\n",
       "      <td>-0.006409</td>\n",
       "      <td>0.135212</td>\n",
       "      <td>0.039842</td>\n",
       "      <td>0.061381</td>\n",
       "    </tr>\n",
       "    <tr>\n",
       "      <th>Month</th>\n",
       "      <td>-0.005137</td>\n",
       "      <td>-0.001167</td>\n",
       "      <td>0.013218</td>\n",
       "      <td>1.000000</td>\n",
       "      <td>-0.016187</td>\n",
       "      <td>0.001964</td>\n",
       "      <td>0.016341</td>\n",
       "      <td>0.016256</td>\n",
       "      <td>0.005069</td>\n",
       "      <td>-0.018818</td>\n",
       "      <td>0.016142</td>\n",
       "      <td>0.002771</td>\n",
       "      <td>0.005250</td>\n",
       "      <td>0.010677</td>\n",
       "      <td>-0.010155</td>\n",
       "      <td>-0.015443</td>\n",
       "    </tr>\n",
       "    <tr>\n",
       "      <th>Incident</th>\n",
       "      <td>-0.015589</td>\n",
       "      <td>-0.099136</td>\n",
       "      <td>0.011880</td>\n",
       "      <td>-0.016187</td>\n",
       "      <td>1.000000</td>\n",
       "      <td>-0.022748</td>\n",
       "      <td>0.070797</td>\n",
       "      <td>-0.056938</td>\n",
       "      <td>-0.146529</td>\n",
       "      <td>0.006741</td>\n",
       "      <td>0.114814</td>\n",
       "      <td>-0.128040</td>\n",
       "      <td>-0.100768</td>\n",
       "      <td>0.130929</td>\n",
       "      <td>-0.015264</td>\n",
       "      <td>0.021419</td>\n",
       "    </tr>\n",
       "    <tr>\n",
       "      <th>Crime Type</th>\n",
       "      <td>0.007507</td>\n",
       "      <td>-0.002488</td>\n",
       "      <td>-0.028845</td>\n",
       "      <td>0.001964</td>\n",
       "      <td>-0.022748</td>\n",
       "      <td>1.000000</td>\n",
       "      <td>-0.000039</td>\n",
       "      <td>0.025504</td>\n",
       "      <td>-0.053421</td>\n",
       "      <td>-0.010625</td>\n",
       "      <td>0.077179</td>\n",
       "      <td>-0.014877</td>\n",
       "      <td>-0.045927</td>\n",
       "      <td>0.046005</td>\n",
       "      <td>0.005287</td>\n",
       "      <td>0.008380</td>\n",
       "    </tr>\n",
       "    <tr>\n",
       "      <th>Victim Sex</th>\n",
       "      <td>-0.002807</td>\n",
       "      <td>-0.032049</td>\n",
       "      <td>0.025315</td>\n",
       "      <td>0.016341</td>\n",
       "      <td>0.070797</td>\n",
       "      <td>-0.000039</td>\n",
       "      <td>1.000000</td>\n",
       "      <td>-0.087548</td>\n",
       "      <td>-0.114418</td>\n",
       "      <td>-0.058052</td>\n",
       "      <td>0.060746</td>\n",
       "      <td>-0.177053</td>\n",
       "      <td>-0.066133</td>\n",
       "      <td>-0.019740</td>\n",
       "      <td>-0.079285</td>\n",
       "      <td>0.075544</td>\n",
       "    </tr>\n",
       "    <tr>\n",
       "      <th>Victim Age</th>\n",
       "      <td>0.001825</td>\n",
       "      <td>0.015106</td>\n",
       "      <td>-0.003383</td>\n",
       "      <td>0.016256</td>\n",
       "      <td>-0.056938</td>\n",
       "      <td>0.025504</td>\n",
       "      <td>-0.087548</td>\n",
       "      <td>1.000000</td>\n",
       "      <td>0.126456</td>\n",
       "      <td>0.058960</td>\n",
       "      <td>-0.012124</td>\n",
       "      <td>0.207345</td>\n",
       "      <td>0.061964</td>\n",
       "      <td>0.029334</td>\n",
       "      <td>0.015359</td>\n",
       "      <td>-0.020000</td>\n",
       "    </tr>\n",
       "    <tr>\n",
       "      <th>Victim Race</th>\n",
       "      <td>0.034106</td>\n",
       "      <td>-0.015343</td>\n",
       "      <td>-0.046304</td>\n",
       "      <td>0.005069</td>\n",
       "      <td>-0.146529</td>\n",
       "      <td>-0.053421</td>\n",
       "      <td>-0.114418</td>\n",
       "      <td>0.126456</td>\n",
       "      <td>1.000000</td>\n",
       "      <td>-0.253892</td>\n",
       "      <td>-0.039419</td>\n",
       "      <td>0.116274</td>\n",
       "      <td>0.597477</td>\n",
       "      <td>0.027197</td>\n",
       "      <td>0.050456</td>\n",
       "      <td>-0.006593</td>\n",
       "    </tr>\n",
       "    <tr>\n",
       "      <th>Victim Ethnicity</th>\n",
       "      <td>-0.035678</td>\n",
       "      <td>0.118512</td>\n",
       "      <td>0.143406</td>\n",
       "      <td>-0.018818</td>\n",
       "      <td>0.006741</td>\n",
       "      <td>-0.010625</td>\n",
       "      <td>-0.058052</td>\n",
       "      <td>0.058960</td>\n",
       "      <td>-0.253892</td>\n",
       "      <td>1.000000</td>\n",
       "      <td>-0.013092</td>\n",
       "      <td>0.005522</td>\n",
       "      <td>-0.162410</td>\n",
       "      <td>-0.001451</td>\n",
       "      <td>0.033121</td>\n",
       "      <td>0.023159</td>\n",
       "    </tr>\n",
       "    <tr>\n",
       "      <th>Perpetrator Sex</th>\n",
       "      <td>-0.019426</td>\n",
       "      <td>-0.092052</td>\n",
       "      <td>0.043429</td>\n",
       "      <td>0.016142</td>\n",
       "      <td>0.114814</td>\n",
       "      <td>0.077179</td>\n",
       "      <td>0.060746</td>\n",
       "      <td>-0.012124</td>\n",
       "      <td>-0.039419</td>\n",
       "      <td>-0.013092</td>\n",
       "      <td>1.000000</td>\n",
       "      <td>-0.584555</td>\n",
       "      <td>0.185767</td>\n",
       "      <td>0.456603</td>\n",
       "      <td>-0.014594</td>\n",
       "      <td>-0.123629</td>\n",
       "    </tr>\n",
       "    <tr>\n",
       "      <th>Perpetrator Age</th>\n",
       "      <td>0.003125</td>\n",
       "      <td>0.082101</td>\n",
       "      <td>-0.019711</td>\n",
       "      <td>0.002771</td>\n",
       "      <td>-0.128040</td>\n",
       "      <td>-0.014877</td>\n",
       "      <td>-0.177053</td>\n",
       "      <td>0.207345</td>\n",
       "      <td>0.116274</td>\n",
       "      <td>0.005522</td>\n",
       "      <td>-0.584555</td>\n",
       "      <td>1.000000</td>\n",
       "      <td>-0.000800</td>\n",
       "      <td>-0.308238</td>\n",
       "      <td>0.011931</td>\n",
       "      <td>-0.025102</td>\n",
       "    </tr>\n",
       "    <tr>\n",
       "      <th>Perpetrator Race</th>\n",
       "      <td>0.016968</td>\n",
       "      <td>-0.023186</td>\n",
       "      <td>-0.006409</td>\n",
       "      <td>0.005250</td>\n",
       "      <td>-0.100768</td>\n",
       "      <td>-0.045927</td>\n",
       "      <td>-0.066133</td>\n",
       "      <td>0.061964</td>\n",
       "      <td>0.597477</td>\n",
       "      <td>-0.162410</td>\n",
       "      <td>0.185767</td>\n",
       "      <td>-0.000800</td>\n",
       "      <td>1.000000</td>\n",
       "      <td>0.138153</td>\n",
       "      <td>0.032526</td>\n",
       "      <td>-0.073727</td>\n",
       "    </tr>\n",
       "    <tr>\n",
       "      <th>Relationship</th>\n",
       "      <td>-0.019018</td>\n",
       "      <td>-0.129560</td>\n",
       "      <td>0.135212</td>\n",
       "      <td>0.010677</td>\n",
       "      <td>0.130929</td>\n",
       "      <td>0.046005</td>\n",
       "      <td>-0.019740</td>\n",
       "      <td>0.029334</td>\n",
       "      <td>0.027197</td>\n",
       "      <td>-0.001451</td>\n",
       "      <td>0.456603</td>\n",
       "      <td>-0.308238</td>\n",
       "      <td>0.138153</td>\n",
       "      <td>1.000000</td>\n",
       "      <td>0.006323</td>\n",
       "      <td>-0.001582</td>\n",
       "    </tr>\n",
       "    <tr>\n",
       "      <th>Victim Count</th>\n",
       "      <td>0.007264</td>\n",
       "      <td>0.027549</td>\n",
       "      <td>0.039842</td>\n",
       "      <td>-0.010155</td>\n",
       "      <td>-0.015264</td>\n",
       "      <td>0.005287</td>\n",
       "      <td>-0.079285</td>\n",
       "      <td>0.015359</td>\n",
       "      <td>0.050456</td>\n",
       "      <td>0.033121</td>\n",
       "      <td>-0.014594</td>\n",
       "      <td>0.011931</td>\n",
       "      <td>0.032526</td>\n",
       "      <td>0.006323</td>\n",
       "      <td>1.000000</td>\n",
       "      <td>0.042637</td>\n",
       "    </tr>\n",
       "    <tr>\n",
       "      <th>Perpetrator Count</th>\n",
       "      <td>0.024455</td>\n",
       "      <td>0.022586</td>\n",
       "      <td>0.061381</td>\n",
       "      <td>-0.015443</td>\n",
       "      <td>0.021419</td>\n",
       "      <td>0.008380</td>\n",
       "      <td>0.075544</td>\n",
       "      <td>-0.020000</td>\n",
       "      <td>-0.006593</td>\n",
       "      <td>0.023159</td>\n",
       "      <td>-0.123629</td>\n",
       "      <td>-0.025102</td>\n",
       "      <td>-0.073727</td>\n",
       "      <td>-0.001582</td>\n",
       "      <td>0.042637</td>\n",
       "      <td>1.000000</td>\n",
       "    </tr>\n",
       "  </tbody>\n",
       "</table>\n",
       "</div>"
      ],
      "text/plain": [
       "                       City     State      Year     Month  Incident  \\\n",
       "City               1.000000  0.014157 -0.010838 -0.005137 -0.015589   \n",
       "State              0.014157  1.000000 -0.009510 -0.001167 -0.099136   \n",
       "Year              -0.010838 -0.009510  1.000000  0.013218  0.011880   \n",
       "Month             -0.005137 -0.001167  0.013218  1.000000 -0.016187   \n",
       "Incident          -0.015589 -0.099136  0.011880 -0.016187  1.000000   \n",
       "Crime Type         0.007507 -0.002488 -0.028845  0.001964 -0.022748   \n",
       "Victim Sex        -0.002807 -0.032049  0.025315  0.016341  0.070797   \n",
       "Victim Age         0.001825  0.015106 -0.003383  0.016256 -0.056938   \n",
       "Victim Race        0.034106 -0.015343 -0.046304  0.005069 -0.146529   \n",
       "Victim Ethnicity  -0.035678  0.118512  0.143406 -0.018818  0.006741   \n",
       "Perpetrator Sex   -0.019426 -0.092052  0.043429  0.016142  0.114814   \n",
       "Perpetrator Age    0.003125  0.082101 -0.019711  0.002771 -0.128040   \n",
       "Perpetrator Race   0.016968 -0.023186 -0.006409  0.005250 -0.100768   \n",
       "Relationship      -0.019018 -0.129560  0.135212  0.010677  0.130929   \n",
       "Victim Count       0.007264  0.027549  0.039842 -0.010155 -0.015264   \n",
       "Perpetrator Count  0.024455  0.022586  0.061381 -0.015443  0.021419   \n",
       "\n",
       "                   Crime Type  Victim Sex  Victim Age  Victim Race  \\\n",
       "City                 0.007507   -0.002807    0.001825     0.034106   \n",
       "State               -0.002488   -0.032049    0.015106    -0.015343   \n",
       "Year                -0.028845    0.025315   -0.003383    -0.046304   \n",
       "Month                0.001964    0.016341    0.016256     0.005069   \n",
       "Incident            -0.022748    0.070797   -0.056938    -0.146529   \n",
       "Crime Type           1.000000   -0.000039    0.025504    -0.053421   \n",
       "Victim Sex          -0.000039    1.000000   -0.087548    -0.114418   \n",
       "Victim Age           0.025504   -0.087548    1.000000     0.126456   \n",
       "Victim Race         -0.053421   -0.114418    0.126456     1.000000   \n",
       "Victim Ethnicity    -0.010625   -0.058052    0.058960    -0.253892   \n",
       "Perpetrator Sex      0.077179    0.060746   -0.012124    -0.039419   \n",
       "Perpetrator Age     -0.014877   -0.177053    0.207345     0.116274   \n",
       "Perpetrator Race    -0.045927   -0.066133    0.061964     0.597477   \n",
       "Relationship         0.046005   -0.019740    0.029334     0.027197   \n",
       "Victim Count         0.005287   -0.079285    0.015359     0.050456   \n",
       "Perpetrator Count    0.008380    0.075544   -0.020000    -0.006593   \n",
       "\n",
       "                   Victim Ethnicity  Perpetrator Sex  Perpetrator Age  \\\n",
       "City                      -0.035678        -0.019426         0.003125   \n",
       "State                      0.118512        -0.092052         0.082101   \n",
       "Year                       0.143406         0.043429        -0.019711   \n",
       "Month                     -0.018818         0.016142         0.002771   \n",
       "Incident                   0.006741         0.114814        -0.128040   \n",
       "Crime Type                -0.010625         0.077179        -0.014877   \n",
       "Victim Sex                -0.058052         0.060746        -0.177053   \n",
       "Victim Age                 0.058960        -0.012124         0.207345   \n",
       "Victim Race               -0.253892        -0.039419         0.116274   \n",
       "Victim Ethnicity           1.000000        -0.013092         0.005522   \n",
       "Perpetrator Sex           -0.013092         1.000000        -0.584555   \n",
       "Perpetrator Age            0.005522        -0.584555         1.000000   \n",
       "Perpetrator Race          -0.162410         0.185767        -0.000800   \n",
       "Relationship              -0.001451         0.456603        -0.308238   \n",
       "Victim Count               0.033121        -0.014594         0.011931   \n",
       "Perpetrator Count          0.023159        -0.123629        -0.025102   \n",
       "\n",
       "                   Perpetrator Race  Relationship  Victim Count  \\\n",
       "City                       0.016968     -0.019018      0.007264   \n",
       "State                     -0.023186     -0.129560      0.027549   \n",
       "Year                      -0.006409      0.135212      0.039842   \n",
       "Month                      0.005250      0.010677     -0.010155   \n",
       "Incident                  -0.100768      0.130929     -0.015264   \n",
       "Crime Type                -0.045927      0.046005      0.005287   \n",
       "Victim Sex                -0.066133     -0.019740     -0.079285   \n",
       "Victim Age                 0.061964      0.029334      0.015359   \n",
       "Victim Race                0.597477      0.027197      0.050456   \n",
       "Victim Ethnicity          -0.162410     -0.001451      0.033121   \n",
       "Perpetrator Sex            0.185767      0.456603     -0.014594   \n",
       "Perpetrator Age           -0.000800     -0.308238      0.011931   \n",
       "Perpetrator Race           1.000000      0.138153      0.032526   \n",
       "Relationship               0.138153      1.000000      0.006323   \n",
       "Victim Count               0.032526      0.006323      1.000000   \n",
       "Perpetrator Count         -0.073727     -0.001582      0.042637   \n",
       "\n",
       "                   Perpetrator Count  \n",
       "City                        0.024455  \n",
       "State                       0.022586  \n",
       "Year                        0.061381  \n",
       "Month                      -0.015443  \n",
       "Incident                    0.021419  \n",
       "Crime Type                  0.008380  \n",
       "Victim Sex                  0.075544  \n",
       "Victim Age                 -0.020000  \n",
       "Victim Race                -0.006593  \n",
       "Victim Ethnicity            0.023159  \n",
       "Perpetrator Sex            -0.123629  \n",
       "Perpetrator Age            -0.025102  \n",
       "Perpetrator Race           -0.073727  \n",
       "Relationship               -0.001582  \n",
       "Victim Count                0.042637  \n",
       "Perpetrator Count           1.000000  "
      ]
     },
     "execution_count": 34,
     "metadata": {},
     "output_type": "execute_result"
    }
   ],
   "source": [
    "correlation = data1.corr()\n",
    "correlation"
   ]
  },
  {
   "cell_type": "code",
   "execution_count": 41,
   "id": "6e9728c2",
   "metadata": {},
   "outputs": [
    {
     "data": {
      "text/plain": [
       "<Axes: >"
      ]
     },
     "execution_count": 41,
     "metadata": {},
     "output_type": "execute_result"
    },
    {
     "data": {
      "image/png": "[encoded data removed]",
      "text/plain": [
       "<Figure size 1000x1000 with 2 Axes>"
      ]
     },
     "metadata": {},
     "output_type": "display_data"
    }
   ],
   "source": [
    "plt.figure(figsize=(10,10))\n",
    "sns.heatmap(correlation , square=True, annot=True)"
   ]
  },
  {
   "cell_type": "code",
   "execution_count": 43,
   "id": "2d0f197a",
   "metadata": {},
   "outputs": [
    {
     "data": {
      "text/plain": [
       "<Axes: >"
      ]
     },
     "execution_count": 43,
     "metadata": {},
     "output_type": "execute_result"
    },
    {
     "data": {
      "image/png": "[encoded data removed]",
      "text/plain": [
       "<Figure size 640x480 with 1 Axes>"
      ]
     },
     "metadata": {},
     "output_type": "display_data"
    }
   ],
   "source": [
    "data['Victim Sex'].value_counts().plot.bar()"
   ]
  },
  {
   "cell_type": "code",
   "execution_count": 46,
   "id": "aeec122c",
   "metadata": {},
   "outputs": [
    {
     "data": {
      "image/png": "[encoded data removed]",
      "text/plain": [
       "<Figure size 640x480 with 1 Axes>"
      ]
     },
     "metadata": {},
     "output_type": "display_data"
    }
   ],
   "source": [
    "sns.countplot(x='Victim Sex', data=data)\n",
    "plt.show()"
   ]
  },
  {
   "cell_type": "code",
   "execution_count": 52,
   "id": "6a7e0f1f",
   "metadata": {},
   "outputs": [
    {
     "data": {
      "application/vnd.plotly.v1+json": {
       "config": {
        "plotlyServerURL": "https://plot.ly"
       },
       "data": [
        {
         "alignmentgroup": "True",
         "hovertemplate": "x=%{x}<br>y=%{y}<extra></extra>",
         "legendgroup": "",
         "marker": {
          "color": "#636efa",
          "pattern": {
           "shape": ""
          }
         },
         "name": "",
         "offsetgroup": "",
         "orientation": "v",
         "showlegend": false,
         "textposition": "auto",
         "type": "bar",
         "x": [
          "Male",
          "Female",
          "Unknown"
         ],
         "xaxis": "x",
         "y": [
          7711,
          2271,
          18
         ],
         "yaxis": "y"
        }
       ],
       "layout": {
        "barmode": "relative",
        "legend": {
         "tracegroupgap": 0
        },
        "template": {
         "data": {
          "bar": [
           {
            "error_x": {
             "color": "#2a3f5f"
            },
            "error_y": {
             "color": "#2a3f5f"
            },
            "marker": {
             "line": {
              "color": "#E5ECF6",
              "width": 0.5
             },
             "pattern": {
              "fillmode": "overlay",
              "size": 10,
              "solidity": 0.2
             }
            },
            "type": "bar"
           }
          ],
          "barpolar": [
           {
            "marker": {
             "line": {
              "color": "#E5ECF6",
              "width": 0.5
             },
             "pattern": {
              "fillmode": "overlay",
              "size": 10,
              "solidity": 0.2
             }
            },
            "type": "barpolar"
           }
          ],
          "carpet": [
           {
            "aaxis": {
             "endlinecolor": "#2a3f5f",
             "gridcolor": "white",
             "linecolor": "white",
             "minorgridcolor": "white",
             "startlinecolor": "#2a3f5f"
            },
            "baxis": {
             "endlinecolor": "#2a3f5f",
             "gridcolor": "white",
             "linecolor": "white",
             "minorgridcolor": "white",
             "startlinecolor": "#2a3f5f"
            },
            "type": "carpet"
           }
          ],
          "choropleth": [
           {
            "colorbar": {
             "outlinewidth": 0,
             "ticks": ""
            },
            "type": "choropleth"
           }
          ],
          "contour": [
           {
            "colorbar": {
             "outlinewidth": 0,
             "ticks": ""
            },
            "colorscale": [
             [
              0,
              "#0d0887"
             ],
             [
              0.1111111111111111,
              "#46039f"
             ],
             [
              0.2222222222222222,
              "#7201a8"
             ],
             [
              0.3333333333333333,
              "#9c179e"
             ],
             [
              0.4444444444444444,
              "#bd3786"
             ],
             [
              0.5555555555555556,
              "#d8576b"
             ],
             [
              0.6666666666666666,
              "#ed7953"
             ],
             [
              0.7777777777777778,
              "#fb9f3a"
             ],
             [
              0.8888888888888888,
              "#fdca26"
             ],
             [
              1,
              "#f0f921"
             ]
            ],
            "type": "contour"
           }
          ],
          "contourcarpet": [
           {
            "colorbar": {
             "outlinewidth": 0,
             "ticks": ""
            },
            "type": "contourcarpet"
           }
          ],
          "heatmap": [
           {
            "colorbar": {
             "outlinewidth": 0,
             "ticks": ""
            },
            "colorscale": [
             [
              0,
              "#0d0887"
             ],
             [
              0.1111111111111111,
              "#46039f"
             ],
             [
              0.2222222222222222,
              "#7201a8"
             ],
             [
              0.3333333333333333,
              "#9c179e"
             ],
             [
              0.4444444444444444,
              "#bd3786"
             ],
             [
              0.5555555555555556,
              "#d8576b"
             ],
             [
              0.6666666666666666,
              "#ed7953"
             ],
             [
              0.7777777777777778,
              "#fb9f3a"
             ],
             [
              0.8888888888888888,
              "#fdca26"
             ],
             [
              1,
              "#f0f921"
             ]
            ],
            "type": "heatmap"
           }
          ],
          "heatmapgl": [
           {
            "colorbar": {
             "outlinewidth": 0,
             "ticks": ""
            },
            "colorscale": [
             [
              0,
              "#0d0887"
             ],
             [
              0.1111111111111111,
              "#46039f"
             ],
             [
              0.2222222222222222,
              "#7201a8"
             ],
             [
              0.3333333333333333,
              "#9c179e"
             ],
             [
              0.4444444444444444,
              "#bd3786"
             ],
             [
              0.5555555555555556,
              "#d8576b"
             ],
             [
              0.6666666666666666,
              "#ed7953"
             ],
             [
              0.7777777777777778,
              "#fb9f3a"
             ],
             [
              0.8888888888888888,
              "#fdca26"
             ],
             [
              1,
              "#f0f921"
             ]
            ],
            "type": "heatmapgl"
           }
          ],
          "histogram": [
           {
            "marker": {
             "pattern": {
              "fillmode": "overlay",
              "size": 10,
              "solidity": 0.2
             }
            },
            "type": "histogram"
           }
          ],
          "histogram2d": [
           {
            "colorbar": {
             "outlinewidth": 0,
             "ticks": ""
            },
            "colorscale": [
             [
              0,
              "#0d0887"
             ],
             [
              0.1111111111111111,
              "#46039f"
             ],
             [
              0.2222222222222222,
              "#7201a8"
             ],
             [
              0.3333333333333333,
              "#9c179e"
             ],
             [
              0.4444444444444444,
              "#bd3786"
             ],
             [
              0.5555555555555556,
              "#d8576b"
             ],
             [
              0.6666666666666666,
              "#ed7953"
             ],
             [
              0.7777777777777778,
              "#fb9f3a"
             ],
             [
              0.8888888888888888,
              "#fdca26"
             ],
             [
              1,
              "#f0f921"
             ]
            ],
            "type": "histogram2d"
           }
          ],
          "histogram2dcontour": [
           {
            "colorbar": {
             "outlinewidth": 0,
             "ticks": ""
            },
            "colorscale": [
             [
              0,
              "#0d0887"
             ],
             [
              0.1111111111111111,
              "#46039f"
             ],
             [
              0.2222222222222222,
              "#7201a8"
             ],
             [
              0.3333333333333333,
              "#9c179e"
             ],
             [
              0.4444444444444444,
              "#bd3786"
             ],
             [
              0.5555555555555556,
              "#d8576b"
             ],
             [
              0.6666666666666666,
              "#ed7953"
             ],
             [
              0.7777777777777778,
              "#fb9f3a"
             ],
             [
              0.8888888888888888,
              "#fdca26"
             ],
             [
              1,
              "#f0f921"
             ]
            ],
            "type": "histogram2dcontour"
           }
          ],
          "mesh3d": [
           {
            "colorbar": {
             "outlinewidth": 0,
             "ticks": ""
            },
            "type": "mesh3d"
           }
          ],
          "parcoords": [
           {
            "line": {
             "colorbar": {
              "outlinewidth": 0,
              "ticks": ""
             }
            },
            "type": "parcoords"
           }
          ],
          "pie": [
           {
            "automargin": true,
            "type": "pie"
           }
          ],
          "scatter": [
           {
            "fillpattern": {
             "fillmode": "overlay",
             "size": 10,
             "solidity": 0.2
            },
            "type": "scatter"
           }
          ],
          "scatter3d": [
           {
            "line": {
             "colorbar": {
              "outlinewidth": 0,
              "ticks": ""
             }
            },
            "marker": {
             "colorbar": {
              "outlinewidth": 0,
              "ticks": ""
             }
            },
            "type": "scatter3d"
           }
          ],
          "scattercarpet": [
           {
            "marker": {
             "colorbar": {
              "outlinewidth": 0,
              "ticks": ""
             }
            },
            "type": "scattercarpet"
           }
          ],
          "scattergeo": [
           {
            "marker": {
             "colorbar": {
              "outlinewidth": 0,
              "ticks": ""
             }
            },
            "type": "scattergeo"
           }
          ],
          "scattergl": [
           {
            "marker": {
             "colorbar": {
              "outlinewidth": 0,
              "ticks": ""
             }
            },
            "type": "scattergl"
           }
          ],
          "scattermapbox": [
           {
            "marker": {
             "colorbar": {
              "outlinewidth": 0,
              "ticks": ""
             }
            },
            "type": "scattermapbox"
           }
          ],
          "scatterpolar": [
           {
            "marker": {
             "colorbar": {
              "outlinewidth": 0,
              "ticks": ""
             }
            },
            "type": "scatterpolar"
           }
          ],
          "scatterpolargl": [
           {
            "marker": {
             "colorbar": {
              "outlinewidth": 0,
              "ticks": ""
             }
            },
            "type": "scatterpolargl"
           }
          ],
          "scatterternary": [
           {
            "marker": {
             "colorbar": {
              "outlinewidth": 0,
              "ticks": ""
             }
            },
            "type": "scatterternary"
           }
          ],
          "surface": [
           {
            "colorbar": {
             "outlinewidth": 0,
             "ticks": ""
            },
            "colorscale": [
             [
              0,
              "#0d0887"
             ],
             [
              0.1111111111111111,
              "#46039f"
             ],
             [
              0.2222222222222222,
              "#7201a8"
             ],
             [
              0.3333333333333333,
              "#9c179e"
             ],
             [
              0.4444444444444444,
              "#bd3786"
             ],
             [
              0.5555555555555556,
              "#d8576b"
             ],
             [
              0.6666666666666666,
              "#ed7953"
             ],
             [
              0.7777777777777778,
              "#fb9f3a"
             ],
             [
              0.8888888888888888,
              "#fdca26"
             ],
             [
              1,
              "#f0f921"
             ]
            ],
            "type": "surface"
           }
          ],
          "table": [
           {
            "cells": {
             "fill": {
              "color": "#EBF0F8"
             },
             "line": {
              "color": "white"
             }
            },
            "header": {
             "fill": {
              "color": "#C8D4E3"
             },
             "line": {
              "color": "white"
             }
            },
            "type": "table"
           }
          ]
         },
         "layout": {
          "annotationdefaults": {
           "arrowcolor": "#2a3f5f",
           "arrowhead": 0,
           "arrowwidth": 1
          },
          "autotypenumbers": "strict",
          "coloraxis": {
           "colorbar": {
            "outlinewidth": 0,
            "ticks": ""
           }
          },
          "colorscale": {
           "diverging": [
            [
             0,
             "#8e0152"
            ],
            [
             0.1,
             "#c51b7d"
            ],
            [
             0.2,
             "#de77ae"
            ],
            [
             0.3,
             "#f1b6da"
            ],
            [
             0.4,
             "#fde0ef"
            ],
            [
             0.5,
             "#f7f7f7"
            ],
            [
             0.6,
             "#e6f5d0"
            ],
            [
             0.7,
             "#b8e186"
            ],
            [
             0.8,
             "#7fbc41"
            ],
            [
             0.9,
             "#4d9221"
            ],
            [
             1,
             "#276419"
            ]
           ],
           "sequential": [
            [
             0,
             "#0d0887"
            ],
            [
             0.1111111111111111,
             "#46039f"
            ],
            [
             0.2222222222222222,
             "#7201a8"
            ],
            [
             0.3333333333333333,
             "#9c179e"
            ],
            [
             0.4444444444444444,
             "#bd3786"
            ],
            [
             0.5555555555555556,
             "#d8576b"
            ],
            [
             0.6666666666666666,
             "#ed7953"
            ],
            [
             0.7777777777777778,
             "#fb9f3a"
            ],
            [
             0.8888888888888888,
             "#fdca26"
            ],
            [
             1,
             "#f0f921"
            ]
           ],
           "sequentialminus": [
            [
             0,
             "#0d0887"
            ],
            [
             0.1111111111111111,
             "#46039f"
            ],
            [
             0.2222222222222222,
             "#7201a8"
            ],
            [
             0.3333333333333333,
             "#9c179e"
            ],
            [
             0.4444444444444444,
             "#bd3786"
            ],
            [
             0.5555555555555556,
             "#d8576b"
            ],
            [
             0.6666666666666666,
             "#ed7953"
            ],
            [
             0.7777777777777778,
             "#fb9f3a"
            ],
            [
             0.8888888888888888,
             "#fdca26"
            ],
            [
             1,
             "#f0f921"
            ]
           ]
          },
          "colorway": [
           "#636efa",
           "#EF553B",
           "#00cc96",
           "#ab63fa",
           "#FFA15A",
           "#19d3f3",
           "#FF6692",
           "#B6E880",
           "#FF97FF",
           "#FECB52"
          ],
          "font": {
           "color": "#2a3f5f"
          },
          "geo": {
           "bgcolor": "white",
           "lakecolor": "white",
           "landcolor": "#E5ECF6",
           "showlakes": true,
           "showland": true,
           "subunitcolor": "white"
          },
          "hoverlabel": {
           "align": "left"
          },
          "hovermode": "closest",
          "mapbox": {
           "style": "light"
          },
          "paper_bgcolor": "white",
          "plot_bgcolor": "#E5ECF6",
          "polar": {
           "angularaxis": {
            "gridcolor": "white",
            "linecolor": "white",
            "ticks": ""
           },
           "bgcolor": "#E5ECF6",
           "radialaxis": {
            "gridcolor": "white",
            "linecolor": "white",
            "ticks": ""
           }
          },
          "scene": {
           "xaxis": {
            "backgroundcolor": "#E5ECF6",
            "gridcolor": "white",
            "gridwidth": 2,
            "linecolor": "white",
            "showbackground": true,
            "ticks": "",
            "zerolinecolor": "white"
           },
           "yaxis": {
            "backgroundcolor": "#E5ECF6",
            "gridcolor": "white",
            "gridwidth": 2,
            "linecolor": "white",
            "showbackground": true,
            "ticks": "",
            "zerolinecolor": "white"
           },
           "zaxis": {
            "backgroundcolor": "#E5ECF6",
            "gridcolor": "white",
            "gridwidth": 2,
            "linecolor": "white",
            "showbackground": true,
            "ticks": "",
            "zerolinecolor": "white"
           }
          },
          "shapedefaults": {
           "line": {
            "color": "#2a3f5f"
           }
          },
          "ternary": {
           "aaxis": {
            "gridcolor": "white",
            "linecolor": "white",
            "ticks": ""
           },
           "baxis": {
            "gridcolor": "white",
            "linecolor": "white",
            "ticks": ""
           },
           "bgcolor": "#E5ECF6",
           "caxis": {
            "gridcolor": "white",
            "linecolor": "white",
            "ticks": ""
           }
          },
          "title": {
           "x": 0.05
          },
          "xaxis": {
           "automargin": true,
           "gridcolor": "white",
           "linecolor": "white",
           "ticks": "",
           "title": {
            "standoff": 15
           },
           "zerolinecolor": "white",
           "zerolinewidth": 2
          },
          "yaxis": {
           "automargin": true,
           "gridcolor": "white",
           "linecolor": "white",
           "ticks": "",
           "title": {
            "standoff": 15
           },
           "zerolinecolor": "white",
           "zerolinewidth": 2
          }
         }
        },
        "title": {
         "text": "Victim Sex"
        },
        "xaxis": {
         "anchor": "y",
         "domain": [
          0,
          1
         ],
         "title": {
          "text": "x"
         }
        },
        "yaxis": {
         "anchor": "x",
         "domain": [
          0,
          1
         ],
         "title": {
          "text": "y"
         }
        }
       }
      },
      "text/html": [
       "<div>                            <div id=\"5475928a-f979-4758-a2e1-294eb49fbdb0\" class=\"plotly-graph-div\" style=\"height:525px; width:100%;\"></div>            <script type=\"text/javascript\">                require([\"plotly\"], function(Plotly) {                    window.PLOTLYENV=window.PLOTLYENV || {};                                    if (document.getElementById(\"5475928a-f979-4758-a2e1-294eb49fbdb0\")) {                    Plotly.newPlot(                        \"5475928a-f979-4758-a2e1-294eb49fbdb0\",                        [{\"alignmentgroup\":\"True\",\"hovertemplate\":\"x=%{x}<br>y=%{y}<extra></extra>\",\"legendgroup\":\"\",\"marker\":{\"color\":\"#636efa\",\"pattern\":{\"shape\":\"\"}},\"name\":\"\",\"offsetgroup\":\"\",\"orientation\":\"v\",\"showlegend\":false,\"textposition\":\"auto\",\"x\":[\"Male\",\"Female\",\"Unknown\"],\"xaxis\":\"x\",\"y\":[7711,2271,18],\"yaxis\":\"y\",\"type\":\"bar\"}],                        {\"template\":{\"data\":{\"histogram2dcontour\":[{\"type\":\"histogram2dcontour\",\"colorbar\":{\"outlinewidth\":0,\"ticks\":\"\"},\"colorscale\":[[0.0,\"#0d0887\"],[0.1111111111111111,\"#46039f\"],[0.2222222222222222,\"#7201a8\"],[0.3333333333333333,\"#9c179e\"],[0.4444444444444444,\"#bd3786\"],[0.5555555555555556,\"#d8576b\"],[0.6666666666666666,\"#ed7953\"],[0.7777777777777778,\"#fb9f3a\"],[0.8888888888888888,\"#fdca26\"],[1.0,\"#f0f921\"]]}],\"choropleth\":[{\"type\":\"choropleth\",\"colorbar\":{\"outlinewidth\":0,\"ticks\":\"\"}}],\"histogram2d\":[{\"type\":\"histogram2d\",\"colorbar\":{\"outlinewidth\":0,\"ticks\":\"\"},\"colorscale\":[[0.0,\"#0d0887\"],[0.1111111111111111,\"#46039f\"],[0.2222222222222222,\"#7201a8\"],[0.3333333333333333,\"#9c179e\"],[0.4444444444444444,\"#bd3786\"],[0.5555555555555556,\"#d8576b\"],[0.6666666666666666,\"#ed7953\"],[0.7777777777777778,\"#fb9f3a\"],[0.8888888888888888,\"#fdca26\"],[1.0,\"#f0f921\"]]}],\"heatmap\":[{\"type\":\"heatmap\",\"colorbar\":{\"outlinewidth\":0,\"ticks\":\"\"},\"colorscale\":[[0.0,\"#0d0887\"],[0.1111111111111111,\"#46039f\"],[0.2222222222222222,\"#7201a8\"],[0.3333333333333333,\"#9c179e\"],[0.4444444444444444,\"#bd3786\"],[0.5555555555555556,\"#d8576b\"],[0.6666666666666666,\"#ed7953\"],[0.7777777777777778,\"#fb9f3a\"],[0.8888888888888888,\"#fdca26\"],[1.0,\"#f0f921\"]]}],\"heatmapgl\":[{\"type\":\"heatmapgl\",\"colorbar\":{\"outlinewidth\":0,\"ticks\":\"\"},\"colorscale\":[[0.0,\"#0d0887\"],[0.1111111111111111,\"#46039f\"],[0.2222222222222222,\"#7201a8\"],[0.3333333333333333,\"#9c179e\"],[0.4444444444444444,\"#bd3786\"],[0.5555555555555556,\"#d8576b\"],[0.6666666666666666,\"#ed7953\"],[0.7777777777777778,\"#fb9f3a\"],[0.8888888888888888,\"#fdca26\"],[1.0,\"#f0f921\"]]}],\"contourcarpet\":[{\"type\":\"contourcarpet\",\"colorbar\":{\"outlinewidth\":0,\"ticks\":\"\"}}],\"contour\":[{\"type\":\"contour\",\"colorbar\":{\"outlinewidth\":0,\"ticks\":\"\"},\"colorscale\":[[0.0,\"#0d0887\"],[0.1111111111111111,\"#46039f\"],[0.2222222222222222,\"#7201a8\"],[0.3333333333333333,\"#9c179e\"],[0.4444444444444444,\"#bd3786\"],[0.5555555555555556,\"#d8576b\"],[0.6666666666666666,\"#ed7953\"],[0.7777777777777778,\"#fb9f3a\"],[0.8888888888888888,\"#fdca26\"],[1.0,\"#f0f921\"]]}],\"surface\":[{\"type\":\"surface\",\"colorbar\":{\"outlinewidth\":0,\"ticks\":\"\"},\"colorscale\":[[0.0,\"#0d0887\"],[0.1111111111111111,\"#46039f\"],[0.2222222222222222,\"#7201a8\"],[0.3333333333333333,\"#9c179e\"],[0.4444444444444444,\"#bd3786\"],[0.5555555555555556,\"#d8576b\"],[0.6666666666666666,\"#ed7953\"],[0.7777777777777778,\"#fb9f3a\"],[0.8888888888888888,\"#fdca26\"],[1.0,\"#f0f921\"]]}],\"mesh3d\":[{\"type\":\"mesh3d\",\"colorbar\":{\"outlinewidth\":0,\"ticks\":\"\"}}],\"scatter\":[{\"fillpattern\":{\"fillmode\":\"overlay\",\"size\":10,\"solidity\":0.2},\"type\":\"scatter\"}],\"parcoords\":[{\"type\":\"parcoords\",\"line\":{\"colorbar\":{\"outlinewidth\":0,\"ticks\":\"\"}}}],\"scatterpolargl\":[{\"type\":\"scatterpolargl\",\"marker\":{\"colorbar\":{\"outlinewidth\":0,\"ticks\":\"\"}}}],\"bar\":[{\"error_x\":{\"color\":\"#2a3f5f\"},\"error_y\":{\"color\":\"#2a3f5f\"},\"marker\":{\"line\":{\"color\":\"#E5ECF6\",\"width\":0.5},\"pattern\":{\"fillmode\":\"overlay\",\"size\":10,\"solidity\":0.2}},\"type\":\"bar\"}],\"scattergeo\":[{\"type\":\"scattergeo\",\"marker\":{\"colorbar\":{\"outlinewidth\":0,\"ticks\":\"\"}}}],\"scatterpolar\":[{\"type\":\"scatterpolar\",\"marker\":{\"colorbar\":{\"outlinewidth\":0,\"ticks\":\"\"}}}],\"histogram\":[{\"marker\":{\"pattern\":{\"fillmode\":\"overlay\",\"size\":10,\"solidity\":0.2}},\"type\":\"histogram\"}],\"scattergl\":[{\"type\":\"scattergl\",\"marker\":{\"colorbar\":{\"outlinewidth\":0,\"ticks\":\"\"}}}],\"scatter3d\":[{\"type\":\"scatter3d\",\"line\":{\"colorbar\":{\"outlinewidth\":0,\"ticks\":\"\"}},\"marker\":{\"colorbar\":{\"outlinewidth\":0,\"ticks\":\"\"}}}],\"scattermapbox\":[{\"type\":\"scattermapbox\",\"marker\":{\"colorbar\":{\"outlinewidth\":0,\"ticks\":\"\"}}}],\"scatterternary\":[{\"type\":\"scatterternary\",\"marker\":{\"colorbar\":{\"outlinewidth\":0,\"ticks\":\"\"}}}],\"scattercarpet\":[{\"type\":\"scattercarpet\",\"marker\":{\"colorbar\":{\"outlinewidth\":0,\"ticks\":\"\"}}}],\"carpet\":[{\"aaxis\":{\"endlinecolor\":\"#2a3f5f\",\"gridcolor\":\"white\",\"linecolor\":\"white\",\"minorgridcolor\":\"white\",\"startlinecolor\":\"#2a3f5f\"},\"baxis\":{\"endlinecolor\":\"#2a3f5f\",\"gridcolor\":\"white\",\"linecolor\":\"white\",\"minorgridcolor\":\"white\",\"startlinecolor\":\"#2a3f5f\"},\"type\":\"carpet\"}],\"table\":[{\"cells\":{\"fill\":{\"color\":\"#EBF0F8\"},\"line\":{\"color\":\"white\"}},\"header\":{\"fill\":{\"color\":\"#C8D4E3\"},\"line\":{\"color\":\"white\"}},\"type\":\"table\"}],\"barpolar\":[{\"marker\":{\"line\":{\"color\":\"#E5ECF6\",\"width\":0.5},\"pattern\":{\"fillmode\":\"overlay\",\"size\":10,\"solidity\":0.2}},\"type\":\"barpolar\"}],\"pie\":[{\"automargin\":true,\"type\":\"pie\"}]},\"layout\":{\"autotypenumbers\":\"strict\",\"colorway\":[\"#636efa\",\"#EF553B\",\"#00cc96\",\"#ab63fa\",\"#FFA15A\",\"#19d3f3\",\"#FF6692\",\"#B6E880\",\"#FF97FF\",\"#FECB52\"],\"font\":{\"color\":\"#2a3f5f\"},\"hovermode\":\"closest\",\"hoverlabel\":{\"align\":\"left\"},\"paper_bgcolor\":\"white\",\"plot_bgcolor\":\"#E5ECF6\",\"polar\":{\"bgcolor\":\"#E5ECF6\",\"angularaxis\":{\"gridcolor\":\"white\",\"linecolor\":\"white\",\"ticks\":\"\"},\"radialaxis\":{\"gridcolor\":\"white\",\"linecolor\":\"white\",\"ticks\":\"\"}},\"ternary\":{\"bgcolor\":\"#E5ECF6\",\"aaxis\":{\"gridcolor\":\"white\",\"linecolor\":\"white\",\"ticks\":\"\"},\"baxis\":{\"gridcolor\":\"white\",\"linecolor\":\"white\",\"ticks\":\"\"},\"caxis\":{\"gridcolor\":\"white\",\"linecolor\":\"white\",\"ticks\":\"\"}},\"coloraxis\":{\"colorbar\":{\"outlinewidth\":0,\"ticks\":\"\"}},\"colorscale\":{\"sequential\":[[0.0,\"#0d0887\"],[0.1111111111111111,\"#46039f\"],[0.2222222222222222,\"#7201a8\"],[0.3333333333333333,\"#9c179e\"],[0.4444444444444444,\"#bd3786\"],[0.5555555555555556,\"#d8576b\"],[0.6666666666666666,\"#ed7953\"],[0.7777777777777778,\"#fb9f3a\"],[0.8888888888888888,\"#fdca26\"],[1.0,\"#f0f921\"]],\"sequentialminus\":[[0.0,\"#0d0887\"],[0.1111111111111111,\"#46039f\"],[0.2222222222222222,\"#7201a8\"],[0.3333333333333333,\"#9c179e\"],[0.4444444444444444,\"#bd3786\"],[0.5555555555555556,\"#d8576b\"],[0.6666666666666666,\"#ed7953\"],[0.7777777777777778,\"#fb9f3a\"],[0.8888888888888888,\"#fdca26\"],[1.0,\"#f0f921\"]],\"diverging\":[[0,\"#8e0152\"],[0.1,\"#c51b7d\"],[0.2,\"#de77ae\"],[0.3,\"#f1b6da\"],[0.4,\"#fde0ef\"],[0.5,\"#f7f7f7\"],[0.6,\"#e6f5d0\"],[0.7,\"#b8e186\"],[0.8,\"#7fbc41\"],[0.9,\"#4d9221\"],[1,\"#276419\"]]},\"xaxis\":{\"gridcolor\":\"white\",\"linecolor\":\"white\",\"ticks\":\"\",\"title\":{\"standoff\":15},\"zerolinecolor\":\"white\",\"automargin\":true,\"zerolinewidth\":2},\"yaxis\":{\"gridcolor\":\"white\",\"linecolor\":\"white\",\"ticks\":\"\",\"title\":{\"standoff\":15},\"zerolinecolor\":\"white\",\"automargin\":true,\"zerolinewidth\":2},\"scene\":{\"xaxis\":{\"backgroundcolor\":\"#E5ECF6\",\"gridcolor\":\"white\",\"linecolor\":\"white\",\"showbackground\":true,\"ticks\":\"\",\"zerolinecolor\":\"white\",\"gridwidth\":2},\"yaxis\":{\"backgroundcolor\":\"#E5ECF6\",\"gridcolor\":\"white\",\"linecolor\":\"white\",\"showbackground\":true,\"ticks\":\"\",\"zerolinecolor\":\"white\",\"gridwidth\":2},\"zaxis\":{\"backgroundcolor\":\"#E5ECF6\",\"gridcolor\":\"white\",\"linecolor\":\"white\",\"showbackground\":true,\"ticks\":\"\",\"zerolinecolor\":\"white\",\"gridwidth\":2}},\"shapedefaults\":{\"line\":{\"color\":\"#2a3f5f\"}},\"annotationdefaults\":{\"arrowcolor\":\"#2a3f5f\",\"arrowhead\":0,\"arrowwidth\":1},\"geo\":{\"bgcolor\":\"white\",\"landcolor\":\"#E5ECF6\",\"subunitcolor\":\"white\",\"showland\":true,\"showlakes\":true,\"lakecolor\":\"white\"},\"title\":{\"x\":0.05},\"mapbox\":{\"style\":\"light\"}}},\"xaxis\":{\"anchor\":\"y\",\"domain\":[0.0,1.0],\"title\":{\"text\":\"x\"}},\"yaxis\":{\"anchor\":\"x\",\"domain\":[0.0,1.0],\"title\":{\"text\":\"y\"}},\"legend\":{\"tracegroupgap\":0},\"title\":{\"text\":\"Victim Sex\"},\"barmode\":\"relative\"},                        {\"responsive\": true}                    ).then(function(){\n",
       "                            \n",
       "var gd = document.getElementById('5475928a-f979-4758-a2e1-294eb49fbdb0');\n",
       "var x = new MutationObserver(function (mutations, observer) {{\n",
       "        var display = window.getComputedStyle(gd).display;\n",
       "        if (!display || display === 'none') {{\n",
       "            console.log([gd, 'removed!']);\n",
       "            Plotly.purge(gd);\n",
       "            observer.disconnect();\n",
       "        }}\n",
       "}});\n",
       "\n",
       "// Listen for the removal of the full notebook cells\n",
       "var notebookContainer = gd.closest('#notebook-container');\n",
       "if (notebookContainer) {{\n",
       "    x.observe(notebookContainer, {childList: true});\n",
       "}}\n",
       "\n",
       "// Listen for the clearing of the current output cell\n",
       "var outputEl = gd.closest('.output');\n",
       "if (outputEl) {{\n",
       "    x.observe(outputEl, {childList: true});\n",
       "}}\n",
       "\n",
       "                        })                };                });            </script>        </div>"
      ]
     },
     "metadata": {},
     "output_type": "display_data"
    }
   ],
   "source": [
    "sex = data['Victim Sex'].value_counts()\n",
    "fig = px.bar(y= sex , x = sex.index , title='Victim Sex')\n",
    "fig.show()"
   ]
  },
  {
   "cell_type": "code",
   "execution_count": 55,
   "id": "6ec639ea",
   "metadata": {},
   "outputs": [
    {
     "data": {
      "image/png": "[encoded data removed]",
      "text/plain": [
       "<Figure size 1500x1000 with 1 Axes>"
      ]
     },
     "metadata": {},
     "output_type": "display_data"
    }
   ],
   "source": [
    "plt.figure(figsize=(15,10))\n",
    "sns.countplot(x ='Perpetrator Age', data=data )\n",
    "plt.show()"
   ]
  },
  {
   "cell_type": "code",
   "execution_count": 56,
   "id": "130881b7",
   "metadata": {},
   "outputs": [
    {
     "name": "stderr",
     "output_type": "stream",
     "text": [
      "C:\\Users\\Ameni\\AppData\\Local\\Temp\\ipykernel_7356\\1244730563.py:1: UserWarning:\n",
      "\n",
      "\n",
      "\n",
      "`distplot` is a deprecated function and will be removed in seaborn v0.14.0.\n",
      "\n",
      "Please adapt your code to use either `displot` (a figure-level function with\n",
      "similar flexibility) or `histplot` (an axes-level function for histograms).\n",
      "\n",
      "For a guide to updating your code to use the new functions, please see\n",
      "https://gist.github.com/mwaskom/de44147ed2974457ad6372750bbe5751\n",
      "\n",
      "\n"
     ]
    },
    {
     "data": {
      "text/plain": [
       "<Axes: xlabel='Perpetrator Age', ylabel='Density'>"
      ]
     },
     "execution_count": 56,
     "metadata": {},
     "output_type": "execute_result"
    },
    {
     "data": {
      "image/png": "[encoded data removed]",
      "text/plain": [
       "<Figure size 640x480 with 1 Axes>"
      ]
     },
     "metadata": {},
     "output_type": "display_data"
    }
   ],
   "source": [
    "sns.distplot(data['Perpetrator Age'])"
   ]
  },
  {
   "cell_type": "code",
   "execution_count": 57,
   "id": "92438bb2",
   "metadata": {},
   "outputs": [],
   "source": [
    "crime = pd.read_csv('CrimeChicago.csv')"
   ]
  },
  {
   "cell_type": "code",
   "execution_count": 58,
   "id": "1b3e6e57",
   "metadata": {},
   "outputs": [
    {
     "data": {
      "text/html": [
       "<div>\n",
       "<style scoped>\n",
       "    .dataframe tbody tr th:only-of-type {\n",
       "        vertical-align: middle;\n",
       "    }\n",
       "\n",
       "    .dataframe tbody tr th {\n",
       "        vertical-align: top;\n",
       "    }\n",
       "\n",
       "    .dataframe thead th {\n",
       "        text-align: right;\n",
       "    }\n",
       "</style>\n",
       "<table border=\"1\" class=\"dataframe\">\n",
       "  <thead>\n",
       "    <tr style=\"text-align: right;\">\n",
       "      <th></th>\n",
       "      <th>Unnamed: 0</th>\n",
       "      <th>INCIDENT_NUMBER</th>\n",
       "      <th>OFFENSE_CODE</th>\n",
       "      <th>OFFENSE_CODE_GROUP</th>\n",
       "      <th>OFFENSE_DESCRIPTION</th>\n",
       "      <th>DISTRICT</th>\n",
       "      <th>REPORTING_AREA</th>\n",
       "      <th>SHOOTING</th>\n",
       "      <th>OCCURRED_ON_DATE</th>\n",
       "      <th>YEAR</th>\n",
       "      <th>MONTH</th>\n",
       "      <th>DAY_OF_WEEK</th>\n",
       "      <th>HOUR</th>\n",
       "      <th>UCR_PART</th>\n",
       "      <th>STREET</th>\n",
       "      <th>Lat</th>\n",
       "      <th>Long</th>\n",
       "      <th>Location</th>\n",
       "    </tr>\n",
       "  </thead>\n",
       "  <tbody>\n",
       "    <tr>\n",
       "      <th>0</th>\n",
       "      <td>61410</td>\n",
       "      <td>I182005190</td>\n",
       "      <td>3115</td>\n",
       "      <td>Investigate Person</td>\n",
       "      <td>INVESTIGATE PERSON</td>\n",
       "      <td>B3</td>\n",
       "      <td>465</td>\n",
       "      <td>NaN</td>\n",
       "      <td>2018-01-20 11:05:00</td>\n",
       "      <td>2018</td>\n",
       "      <td>1</td>\n",
       "      <td>Saturday</td>\n",
       "      <td>11</td>\n",
       "      <td>Part Three</td>\n",
       "      <td>JOHNSTON RD</td>\n",
       "      <td>42.287505</td>\n",
       "      <td>-71.092121</td>\n",
       "      <td>(42.28750526, -71.09212143)</td>\n",
       "    </tr>\n",
       "    <tr>\n",
       "      <th>1</th>\n",
       "      <td>230693</td>\n",
       "      <td>I162038129</td>\n",
       "      <td>1842</td>\n",
       "      <td>Drug Violation</td>\n",
       "      <td>DRUGS - POSS CLASS A - HEROIN, ETC.</td>\n",
       "      <td>B2</td>\n",
       "      <td>288</td>\n",
       "      <td>NaN</td>\n",
       "      <td>2016-05-16 11:24:00</td>\n",
       "      <td>2016</td>\n",
       "      <td>5</td>\n",
       "      <td>Monday</td>\n",
       "      <td>11</td>\n",
       "      <td>Part Two</td>\n",
       "      <td>MALCOLM X BLVD</td>\n",
       "      <td>42.329551</td>\n",
       "      <td>-71.085980</td>\n",
       "      <td>(42.32955100, -71.08598000)</td>\n",
       "    </tr>\n",
       "    <tr>\n",
       "      <th>2</th>\n",
       "      <td>191265</td>\n",
       "      <td>I162080532</td>\n",
       "      <td>3301</td>\n",
       "      <td>Verbal Disputes</td>\n",
       "      <td>VERBAL DISPUTE</td>\n",
       "      <td>A7</td>\n",
       "      <td>30</td>\n",
       "      <td>NaN</td>\n",
       "      <td>2016-10-02 00:07:00</td>\n",
       "      <td>2016</td>\n",
       "      <td>10</td>\n",
       "      <td>Sunday</td>\n",
       "      <td>0</td>\n",
       "      <td>Part Three</td>\n",
       "      <td>MAVERICK ST</td>\n",
       "      <td>42.369130</td>\n",
       "      <td>-71.036595</td>\n",
       "      <td>(42.36912985, -71.03659529)</td>\n",
       "    </tr>\n",
       "    <tr>\n",
       "      <th>3</th>\n",
       "      <td>205643</td>\n",
       "      <td>I162064987</td>\n",
       "      <td>1848</td>\n",
       "      <td>Drug Violation</td>\n",
       "      <td>DRUGS - POSS CLASS D - INTENT TO MFR DIST DISP</td>\n",
       "      <td>NaN</td>\n",
       "      <td></td>\n",
       "      <td>NaN</td>\n",
       "      <td>2016-08-12 17:46:00</td>\n",
       "      <td>2016</td>\n",
       "      <td>8</td>\n",
       "      <td>Friday</td>\n",
       "      <td>17</td>\n",
       "      <td>Part Two</td>\n",
       "      <td>NaN</td>\n",
       "      <td>-1.000000</td>\n",
       "      <td>-1.000000</td>\n",
       "      <td>(-1.00000000, -1.00000000)</td>\n",
       "    </tr>\n",
       "    <tr>\n",
       "      <th>4</th>\n",
       "      <td>185376</td>\n",
       "      <td>I162086815</td>\n",
       "      <td>3410</td>\n",
       "      <td>Towed</td>\n",
       "      <td>TOWED MOTOR VEHICLE</td>\n",
       "      <td>B3</td>\n",
       "      <td>456</td>\n",
       "      <td>NaN</td>\n",
       "      <td>2016-10-23 09:24:00</td>\n",
       "      <td>2016</td>\n",
       "      <td>10</td>\n",
       "      <td>Sunday</td>\n",
       "      <td>9</td>\n",
       "      <td>Part Three</td>\n",
       "      <td>GREENWOOD ST</td>\n",
       "      <td>42.301759</td>\n",
       "      <td>-71.079552</td>\n",
       "      <td>(42.30175909, -71.07955160)</td>\n",
       "    </tr>\n",
       "  </tbody>\n",
       "</table>\n",
       "</div>"
      ],
      "text/plain": [
       "   Unnamed: 0 INCIDENT_NUMBER  OFFENSE_CODE  OFFENSE_CODE_GROUP  \\\n",
       "0       61410      I182005190          3115  Investigate Person   \n",
       "1      230693      I162038129          1842      Drug Violation   \n",
       "2      191265      I162080532          3301     Verbal Disputes   \n",
       "3      205643      I162064987          1848      Drug Violation   \n",
       "4      185376      I162086815          3410               Towed   \n",
       "\n",
       "                              OFFENSE_DESCRIPTION DISTRICT REPORTING_AREA  \\\n",
       "0                              INVESTIGATE PERSON       B3            465   \n",
       "1            DRUGS - POSS CLASS A - HEROIN, ETC.        B2            288   \n",
       "2                                  VERBAL DISPUTE       A7             30   \n",
       "3  DRUGS - POSS CLASS D - INTENT TO MFR DIST DISP      NaN                  \n",
       "4                             TOWED MOTOR VEHICLE       B3            456   \n",
       "\n",
       "  SHOOTING     OCCURRED_ON_DATE  YEAR  MONTH DAY_OF_WEEK  HOUR    UCR_PART  \\\n",
       "0      NaN  2018-01-20 11:05:00  2018      1    Saturday    11  Part Three   \n",
       "1      NaN  2016-05-16 11:24:00  2016      5      Monday    11    Part Two   \n",
       "2      NaN  2016-10-02 00:07:00  2016     10      Sunday     0  Part Three   \n",
       "3      NaN  2016-08-12 17:46:00  2016      8      Friday    17    Part Two   \n",
       "4      NaN  2016-10-23 09:24:00  2016     10      Sunday     9  Part Three   \n",
       "\n",
       "           STREET        Lat       Long                     Location  \n",
       "0     JOHNSTON RD  42.287505 -71.092121  (42.28750526, -71.09212143)  \n",
       "1  MALCOLM X BLVD  42.329551 -71.085980  (42.32955100, -71.08598000)  \n",
       "2     MAVERICK ST  42.369130 -71.036595  (42.36912985, -71.03659529)  \n",
       "3             NaN  -1.000000  -1.000000   (-1.00000000, -1.00000000)  \n",
       "4    GREENWOOD ST  42.301759 -71.079552  (42.30175909, -71.07955160)  "
      ]
     },
     "execution_count": 58,
     "metadata": {},
     "output_type": "execute_result"
    }
   ],
   "source": [
    "crime.head()"
   ]
  },
  {
   "cell_type": "code",
   "execution_count": 59,
   "id": "bf8bda2c",
   "metadata": {},
   "outputs": [
    {
     "data": {
      "text/plain": [
       "Unnamed: 0                0\n",
       "INCIDENT_NUMBER           0\n",
       "OFFENSE_CODE              0\n",
       "OFFENSE_CODE_GROUP        0\n",
       "OFFENSE_DESCRIPTION       0\n",
       "DISTRICT                 62\n",
       "REPORTING_AREA            0\n",
       "SHOOTING               9974\n",
       "OCCURRED_ON_DATE          0\n",
       "YEAR                      0\n",
       "MONTH                     0\n",
       "DAY_OF_WEEK               0\n",
       "HOUR                      0\n",
       "UCR_PART                  3\n",
       "STREET                  374\n",
       "Lat                     640\n",
       "Long                    640\n",
       "Location                  0\n",
       "dtype: int64"
      ]
     },
     "execution_count": 59,
     "metadata": {},
     "output_type": "execute_result"
    }
   ],
   "source": [
    "crime.isnull().sum()"
   ]
  },
  {
   "cell_type": "code",
   "execution_count": 60,
   "id": "5928b574",
   "metadata": {},
   "outputs": [],
   "source": [
    "crime.dropna(inplace=True)"
   ]
  },
  {
   "cell_type": "code",
   "execution_count": 61,
   "id": "80007f25",
   "metadata": {},
   "outputs": [
    {
     "data": {
      "text/plain": [
       "Unnamed: 0             0\n",
       "INCIDENT_NUMBER        0\n",
       "OFFENSE_CODE           0\n",
       "OFFENSE_CODE_GROUP     0\n",
       "OFFENSE_DESCRIPTION    0\n",
       "DISTRICT               0\n",
       "REPORTING_AREA         0\n",
       "SHOOTING               0\n",
       "OCCURRED_ON_DATE       0\n",
       "YEAR                   0\n",
       "MONTH                  0\n",
       "DAY_OF_WEEK            0\n",
       "HOUR                   0\n",
       "UCR_PART               0\n",
       "STREET                 0\n",
       "Lat                    0\n",
       "Long                   0\n",
       "Location               0\n",
       "dtype: int64"
      ]
     },
     "execution_count": 61,
     "metadata": {},
     "output_type": "execute_result"
    }
   ],
   "source": [
    "crime.isnull().sum()"
   ]
  },
  {
   "cell_type": "code",
   "execution_count": 62,
   "id": "edb86e54",
   "metadata": {},
   "outputs": [],
   "source": [
    "voler = crime[((crime.OFFENSE_CODE_GROUP=='Robbery'))]"
   ]
  },
  {
   "cell_type": "code",
   "execution_count": 63,
   "id": "45071e51",
   "metadata": {},
   "outputs": [
    {
     "data": {
      "text/html": [
       "<div>\n",
       "<style scoped>\n",
       "    .dataframe tbody tr th:only-of-type {\n",
       "        vertical-align: middle;\n",
       "    }\n",
       "\n",
       "    .dataframe tbody tr th {\n",
       "        vertical-align: top;\n",
       "    }\n",
       "\n",
       "    .dataframe thead th {\n",
       "        text-align: right;\n",
       "    }\n",
       "</style>\n",
       "<table border=\"1\" class=\"dataframe\">\n",
       "  <thead>\n",
       "    <tr style=\"text-align: right;\">\n",
       "      <th></th>\n",
       "      <th>Unnamed: 0</th>\n",
       "      <th>INCIDENT_NUMBER</th>\n",
       "      <th>OFFENSE_CODE</th>\n",
       "      <th>OFFENSE_CODE_GROUP</th>\n",
       "      <th>OFFENSE_DESCRIPTION</th>\n",
       "      <th>DISTRICT</th>\n",
       "      <th>REPORTING_AREA</th>\n",
       "      <th>SHOOTING</th>\n",
       "      <th>OCCURRED_ON_DATE</th>\n",
       "      <th>YEAR</th>\n",
       "      <th>MONTH</th>\n",
       "      <th>DAY_OF_WEEK</th>\n",
       "      <th>HOUR</th>\n",
       "      <th>UCR_PART</th>\n",
       "      <th>STREET</th>\n",
       "      <th>Lat</th>\n",
       "      <th>Long</th>\n",
       "      <th>Location</th>\n",
       "    </tr>\n",
       "  </thead>\n",
       "  <tbody>\n",
       "    <tr>\n",
       "      <th>2293</th>\n",
       "      <td>172905</td>\n",
       "      <td>I162100193</td>\n",
       "      <td>301</td>\n",
       "      <td>Robbery</td>\n",
       "      <td>ROBBERY - STREET</td>\n",
       "      <td>B2</td>\n",
       "      <td>308</td>\n",
       "      <td>Y</td>\n",
       "      <td>2016-12-08 17:06:00</td>\n",
       "      <td>2016</td>\n",
       "      <td>12</td>\n",
       "      <td>Thursday</td>\n",
       "      <td>17</td>\n",
       "      <td>Part One</td>\n",
       "      <td>BOWER ST</td>\n",
       "      <td>42.319968</td>\n",
       "      <td>-71.08715</td>\n",
       "      <td>(42.31996758, -71.08715022)</td>\n",
       "    </tr>\n",
       "  </tbody>\n",
       "</table>\n",
       "</div>"
      ],
      "text/plain": [
       "      Unnamed: 0 INCIDENT_NUMBER  OFFENSE_CODE OFFENSE_CODE_GROUP  \\\n",
       "2293      172905      I162100193           301            Robbery   \n",
       "\n",
       "     OFFENSE_DESCRIPTION DISTRICT REPORTING_AREA SHOOTING  \\\n",
       "2293    ROBBERY - STREET       B2            308        Y   \n",
       "\n",
       "         OCCURRED_ON_DATE  YEAR  MONTH DAY_OF_WEEK  HOUR  UCR_PART    STREET  \\\n",
       "2293  2016-12-08 17:06:00  2016     12    Thursday    17  Part One  BOWER ST   \n",
       "\n",
       "            Lat      Long                     Location  \n",
       "2293  42.319968 -71.08715  (42.31996758, -71.08715022)  "
      ]
     },
     "execution_count": 63,
     "metadata": {},
     "output_type": "execute_result"
    }
   ],
   "source": [
    "voler"
   ]
  },
  {
   "cell_type": "code",
   "execution_count": 68,
   "id": "9d7213d5",
   "metadata": {},
   "outputs": [
    {
     "data": {
      "text/html": [
       "<div style=\"width:100%;\"><div style=\"position:relative;width:100%;height:0;padding-bottom:60%;\"><span style=\"color:#565656\">Make this Notebook Trusted to load map: File -> Trust Notebook</span><iframe srcdoc=\"&lt;!DOCTYPE html&gt;\n",
       "&lt;html&gt;\n",
       "&lt;head&gt;\n",
       "    \n",
       "    &lt;meta http-equiv=&quot;content-type&quot; content=&quot;text/html; charset=UTF-8&quot; /&gt;\n",
       "    \n",
       "        &lt;script&gt;\n",
       "            L_NO_TOUCH = false;\n",
       "            L_DISABLE_3D = false;\n",
       "        &lt;/script&gt;\n",
       "    \n",
       "    &lt;style&gt;html, body {width: 100%;height: 100%;margin: 0;padding: 0;}&lt;/style&gt;\n",
       "    &lt;style&gt;#map {position:absolute;top:0;bottom:0;right:0;left:0;}&lt;/style&gt;\n",
       "    &lt;script src=&quot;https://cdn.jsdelivr.net/npm/leaflet@1.9.3/dist/leaflet.js&quot;&gt;&lt;/script&gt;\n",
       "    &lt;script src=&quot;https://code.jquery.com/jquery-1.12.4.min.js&quot;&gt;&lt;/script&gt;\n",
       "    &lt;script src=&quot;https://cdn.jsdelivr.net/npm/bootstrap@5.2.2/dist/js/bootstrap.bundle.min.js&quot;&gt;&lt;/script&gt;\n",
       "    &lt;script src=&quot;https://cdnjs.cloudflare.com/ajax/libs/Leaflet.awesome-markers/2.0.2/leaflet.awesome-markers.js&quot;&gt;&lt;/script&gt;\n",
       "    &lt;link rel=&quot;stylesheet&quot; href=&quot;https://cdn.jsdelivr.net/npm/leaflet@1.9.3/dist/leaflet.css&quot;/&gt;\n",
       "    &lt;link rel=&quot;stylesheet&quot; href=&quot;https://cdn.jsdelivr.net/npm/bootstrap@5.2.2/dist/css/bootstrap.min.css&quot;/&gt;\n",
       "    &lt;link rel=&quot;stylesheet&quot; href=&quot;https://netdna.bootstrapcdn.com/bootstrap/3.0.0/css/bootstrap.min.css&quot;/&gt;\n",
       "    &lt;link rel=&quot;stylesheet&quot; href=&quot;https://cdn.jsdelivr.net/npm/@fortawesome/fontawesome-free@6.2.0/css/all.min.css&quot;/&gt;\n",
       "    &lt;link rel=&quot;stylesheet&quot; href=&quot;https://cdnjs.cloudflare.com/ajax/libs/Leaflet.awesome-markers/2.0.2/leaflet.awesome-markers.css&quot;/&gt;\n",
       "    &lt;link rel=&quot;stylesheet&quot; href=&quot;https://cdn.jsdelivr.net/gh/python-visualization/folium/folium/templates/leaflet.awesome.rotate.min.css&quot;/&gt;\n",
       "    \n",
       "            &lt;meta name=&quot;viewport&quot; content=&quot;width=device-width,\n",
       "                initial-scale=1.0, maximum-scale=1.0, user-scalable=no&quot; /&gt;\n",
       "            &lt;style&gt;\n",
       "                #map_8b389e3aa5a383bb56b5129c13611055 {\n",
       "                    position: relative;\n",
       "                    width: 100.0%;\n",
       "                    height: 100.0%;\n",
       "                    left: 0.0%;\n",
       "                    top: 0.0%;\n",
       "                }\n",
       "                .leaflet-container { font-size: 1rem; }\n",
       "            &lt;/style&gt;\n",
       "        \n",
       "&lt;/head&gt;\n",
       "&lt;body&gt;\n",
       "    \n",
       "    \n",
       "            &lt;div class=&quot;folium-map&quot; id=&quot;map_8b389e3aa5a383bb56b5129c13611055&quot; &gt;&lt;/div&gt;\n",
       "        \n",
       "&lt;/body&gt;\n",
       "&lt;script&gt;\n",
       "    \n",
       "    \n",
       "            var map_8b389e3aa5a383bb56b5129c13611055 = L.map(\n",
       "                &quot;map_8b389e3aa5a383bb56b5129c13611055&quot;,\n",
       "                {\n",
       "                    center: [42.32, -71.0589],\n",
       "                    crs: L.CRS.EPSG3857,\n",
       "                    zoom: 13,\n",
       "                    zoomControl: true,\n",
       "                    preferCanvas: false,\n",
       "                }\n",
       "            );\n",
       "\n",
       "            \n",
       "\n",
       "        \n",
       "    \n",
       "            var tile_layer_4810f3a8c0576e3d9a3cca414eff6141 = L.tileLayer(\n",
       "                &quot;https://{s}.tile.openstreetmap.org/{z}/{x}/{y}.png&quot;,\n",
       "                {&quot;attribution&quot;: &quot;Data by \\u0026copy; \\u003ca target=\\&quot;_blank\\&quot; href=\\&quot;http://openstreetmap.org\\&quot;\\u003eOpenStreetMap\\u003c/a\\u003e, under \\u003ca target=\\&quot;_blank\\&quot; href=\\&quot;http://www.openstreetmap.org/copyright\\&quot;\\u003eODbL\\u003c/a\\u003e.&quot;, &quot;detectRetina&quot;: false, &quot;maxNativeZoom&quot;: 18, &quot;maxZoom&quot;: 18, &quot;minZoom&quot;: 0, &quot;noWrap&quot;: false, &quot;opacity&quot;: 1, &quot;subdomains&quot;: &quot;abc&quot;, &quot;tms&quot;: false}\n",
       "            ).addTo(map_8b389e3aa5a383bb56b5129c13611055);\n",
       "        \n",
       "&lt;/script&gt;\n",
       "&lt;/html&gt;\" style=\"position:absolute;width:100%;height:100%;left:0;top:0;border:none !important;\" allowfullscreen webkitallowfullscreen mozallowfullscreen></iframe></div></div>"
      ],
      "text/plain": [
       "<folium.folium.Map at 0x1e990de9150>"
      ]
     },
     "execution_count": 68,
     "metadata": {},
     "output_type": "execute_result"
    }
   ],
   "source": [
    "m=folium.Map(location=[42.32,-71.0589],zoom_start=13)\n",
    "m"
   ]
  },
  {
   "cell_type": "code",
   "execution_count": null,
   "id": "7982044e",
   "metadata": {},
   "outputs": [],
   "source": []
  },
  {
   "cell_type": "code",
   "execution_count": null,
   "id": "c0b98466",
   "metadata": {},
   "outputs": [],
   "source": []
  }
 ],
 "metadata": {
  "kernelspec": {
   "display_name": "Python 3 (ipykernel)",
   "language": "python",
   "name": "python3"
  },
  "language_info": {
   "codemirror_mode": {
    "name": "ipython",
    "version": 3
   },
   "file_extension": ".py",
   "mimetype": "text/x-python",
   "name": "python",
   "nbconvert_exporter": "python",
   "pygments_lexer": "ipython3",
   "version": "3.11.4"
  }
 },
 "nbformat": 4,
 "nbformat_minor": 5
}
