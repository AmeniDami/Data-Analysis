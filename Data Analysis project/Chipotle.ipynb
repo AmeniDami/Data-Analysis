{
 "cells": [
  {
   "cell_type": "markdown",
   "id": "554c9d36",
   "metadata": {},
   "source": [
    "Step 1. Import the necessary libraries"
   ]
  },
  {
   "cell_type": "code",
   "execution_count": 84,
   "id": "60621de5",
   "metadata": {},
   "outputs": [],
   "source": [
    "import numpy as np\n",
    "import pandas as pd\n",
    "import matplotlib.pyplot as plt"
   ]
  },
  {
   "cell_type": "markdown",
   "id": "e3558034",
   "metadata": {},
   "source": [
    "Step 2. Import the dataset from this address.\n"
   ]
  },
  {
   "cell_type": "markdown",
   "id": "b313fff8",
   "metadata": {},
   "source": [
    "Step 3. Assign it to a variable called chipo."
   ]
  },
  {
   "cell_type": "code",
   "execution_count": 85,
   "id": "43e32739",
   "metadata": {},
   "outputs": [],
   "source": [
    "url = \"https://raw.githubusercontent.com/justmarkham/DAT8/master/data/chipotle.tsv\"\n",
    "chipo = pd.read_csv(url, sep=\"\\t\")"
   ]
  },
  {
   "cell_type": "markdown",
   "id": "afa7eb51",
   "metadata": {},
   "source": [
    "Step 4. See the first 10 entries"
   ]
  },
  {
   "cell_type": "code",
   "execution_count": 86,
   "id": "eb4779b5",
   "metadata": {},
   "outputs": [
    {
     "data": {
      "text/html": [
       "<div>\n",
       "<style scoped>\n",
       "    .dataframe tbody tr th:only-of-type {\n",
       "        vertical-align: middle;\n",
       "    }\n",
       "\n",
       "    .dataframe tbody tr th {\n",
       "        vertical-align: top;\n",
       "    }\n",
       "\n",
       "    .dataframe thead th {\n",
       "        text-align: right;\n",
       "    }\n",
       "</style>\n",
       "<table border=\"1\" class=\"dataframe\">\n",
       "  <thead>\n",
       "    <tr style=\"text-align: right;\">\n",
       "      <th></th>\n",
       "      <th>order_id</th>\n",
       "      <th>quantity</th>\n",
       "      <th>item_name</th>\n",
       "      <th>choice_description</th>\n",
       "      <th>item_price</th>\n",
       "    </tr>\n",
       "  </thead>\n",
       "  <tbody>\n",
       "    <tr>\n",
       "      <th>0</th>\n",
       "      <td>1</td>\n",
       "      <td>1</td>\n",
       "      <td>Chips and Fresh Tomato Salsa</td>\n",
       "      <td>NaN</td>\n",
       "      <td>$2.39</td>\n",
       "    </tr>\n",
       "    <tr>\n",
       "      <th>1</th>\n",
       "      <td>1</td>\n",
       "      <td>1</td>\n",
       "      <td>Izze</td>\n",
       "      <td>[Clementine]</td>\n",
       "      <td>$3.39</td>\n",
       "    </tr>\n",
       "    <tr>\n",
       "      <th>2</th>\n",
       "      <td>1</td>\n",
       "      <td>1</td>\n",
       "      <td>Nantucket Nectar</td>\n",
       "      <td>[Apple]</td>\n",
       "      <td>$3.39</td>\n",
       "    </tr>\n",
       "    <tr>\n",
       "      <th>3</th>\n",
       "      <td>1</td>\n",
       "      <td>1</td>\n",
       "      <td>Chips and Tomatillo-Green Chili Salsa</td>\n",
       "      <td>NaN</td>\n",
       "      <td>$2.39</td>\n",
       "    </tr>\n",
       "    <tr>\n",
       "      <th>4</th>\n",
       "      <td>2</td>\n",
       "      <td>2</td>\n",
       "      <td>Chicken Bowl</td>\n",
       "      <td>[Tomatillo-Red Chili Salsa (Hot), [Black Beans...</td>\n",
       "      <td>$16.98</td>\n",
       "    </tr>\n",
       "    <tr>\n",
       "      <th>5</th>\n",
       "      <td>3</td>\n",
       "      <td>1</td>\n",
       "      <td>Chicken Bowl</td>\n",
       "      <td>[Fresh Tomato Salsa (Mild), [Rice, Cheese, Sou...</td>\n",
       "      <td>$10.98</td>\n",
       "    </tr>\n",
       "    <tr>\n",
       "      <th>6</th>\n",
       "      <td>3</td>\n",
       "      <td>1</td>\n",
       "      <td>Side of Chips</td>\n",
       "      <td>NaN</td>\n",
       "      <td>$1.69</td>\n",
       "    </tr>\n",
       "    <tr>\n",
       "      <th>7</th>\n",
       "      <td>4</td>\n",
       "      <td>1</td>\n",
       "      <td>Steak Burrito</td>\n",
       "      <td>[Tomatillo Red Chili Salsa, [Fajita Vegetables...</td>\n",
       "      <td>$11.75</td>\n",
       "    </tr>\n",
       "    <tr>\n",
       "      <th>8</th>\n",
       "      <td>4</td>\n",
       "      <td>1</td>\n",
       "      <td>Steak Soft Tacos</td>\n",
       "      <td>[Tomatillo Green Chili Salsa, [Pinto Beans, Ch...</td>\n",
       "      <td>$9.25</td>\n",
       "    </tr>\n",
       "    <tr>\n",
       "      <th>9</th>\n",
       "      <td>5</td>\n",
       "      <td>1</td>\n",
       "      <td>Steak Burrito</td>\n",
       "      <td>[Fresh Tomato Salsa, [Rice, Black Beans, Pinto...</td>\n",
       "      <td>$9.25</td>\n",
       "    </tr>\n",
       "  </tbody>\n",
       "</table>\n",
       "</div>"
      ],
      "text/plain": [
       "   order_id  quantity                              item_name  \\\n",
       "0         1         1           Chips and Fresh Tomato Salsa   \n",
       "1         1         1                                   Izze   \n",
       "2         1         1                       Nantucket Nectar   \n",
       "3         1         1  Chips and Tomatillo-Green Chili Salsa   \n",
       "4         2         2                           Chicken Bowl   \n",
       "5         3         1                           Chicken Bowl   \n",
       "6         3         1                          Side of Chips   \n",
       "7         4         1                          Steak Burrito   \n",
       "8         4         1                       Steak Soft Tacos   \n",
       "9         5         1                          Steak Burrito   \n",
       "\n",
       "                                  choice_description item_price  \n",
       "0                                                NaN     $2.39   \n",
       "1                                       [Clementine]     $3.39   \n",
       "2                                            [Apple]     $3.39   \n",
       "3                                                NaN     $2.39   \n",
       "4  [Tomatillo-Red Chili Salsa (Hot), [Black Beans...    $16.98   \n",
       "5  [Fresh Tomato Salsa (Mild), [Rice, Cheese, Sou...    $10.98   \n",
       "6                                                NaN     $1.69   \n",
       "7  [Tomatillo Red Chili Salsa, [Fajita Vegetables...    $11.75   \n",
       "8  [Tomatillo Green Chili Salsa, [Pinto Beans, Ch...     $9.25   \n",
       "9  [Fresh Tomato Salsa, [Rice, Black Beans, Pinto...     $9.25   "
      ]
     },
     "execution_count": 86,
     "metadata": {},
     "output_type": "execute_result"
    }
   ],
   "source": [
    "chipo.head(10)"
   ]
  },
  {
   "cell_type": "markdown",
   "id": "8e2b2d4c",
   "metadata": {},
   "source": [
    "Step 5. What is the number of observations in the dataset?"
   ]
  },
  {
   "cell_type": "code",
   "execution_count": 87,
   "id": "4be562e1",
   "metadata": {},
   "outputs": [
    {
     "name": "stdout",
     "output_type": "stream",
     "text": [
      "the number of observations in the dataset is: 4622\n"
     ]
    }
   ],
   "source": [
    "nb_observ = chipo.shape[0]\n",
    "print(\"the number of observations in the dataset is:\", nb_observ)"
   ]
  },
  {
   "cell_type": "markdown",
   "id": "889d629e",
   "metadata": {},
   "source": [
    "Step 6. What is the number of columns in the dataset?"
   ]
  },
  {
   "cell_type": "code",
   "execution_count": 88,
   "id": "d62c7326",
   "metadata": {},
   "outputs": [
    {
     "name": "stdout",
     "output_type": "stream",
     "text": [
      "the number of columns in the dataset is: 5\n"
     ]
    }
   ],
   "source": [
    "nb_columns = chipo.shape[1]\n",
    "print(\"the number of columns in the dataset is:\", nb_columns)"
   ]
  },
  {
   "cell_type": "markdown",
   "id": "0ceff5bc",
   "metadata": {},
   "source": [
    "Step 7. Print the name of all the columns."
   ]
  },
  {
   "cell_type": "code",
   "execution_count": 89,
   "id": "7ccc3ca8",
   "metadata": {},
   "outputs": [
    {
     "data": {
      "text/plain": [
       "Index(['order_id', 'quantity', 'item_name', 'choice_description',\n",
       "       'item_price'],\n",
       "      dtype='object')"
      ]
     },
     "execution_count": 89,
     "metadata": {},
     "output_type": "execute_result"
    }
   ],
   "source": [
    "chipo.columns"
   ]
  },
  {
   "cell_type": "markdown",
   "id": "5c836ae4",
   "metadata": {},
   "source": [
    "Step 8. How is the dataset indexed?"
   ]
  },
  {
   "cell_type": "code",
   "execution_count": 90,
   "id": "2e328b7f",
   "metadata": {},
   "outputs": [
    {
     "data": {
      "text/plain": [
       "RangeIndex(start=0, stop=4622, step=1)"
      ]
     },
     "execution_count": 90,
     "metadata": {},
     "output_type": "execute_result"
    }
   ],
   "source": [
    "chipo.index"
   ]
  },
  {
   "cell_type": "markdown",
   "id": "62d60008",
   "metadata": {},
   "source": [
    "Step 9. Which was the most-ordered item?"
   ]
  },
  {
   "cell_type": "code",
   "execution_count": 91,
   "id": "a7ec6be7",
   "metadata": {},
   "outputs": [
    {
     "data": {
      "text/html": [
       "<div>\n",
       "<style scoped>\n",
       "    .dataframe tbody tr th:only-of-type {\n",
       "        vertical-align: middle;\n",
       "    }\n",
       "\n",
       "    .dataframe tbody tr th {\n",
       "        vertical-align: top;\n",
       "    }\n",
       "\n",
       "    .dataframe thead th {\n",
       "        text-align: right;\n",
       "    }\n",
       "</style>\n",
       "<table border=\"1\" class=\"dataframe\">\n",
       "  <thead>\n",
       "    <tr style=\"text-align: right;\">\n",
       "      <th></th>\n",
       "      <th>order_id</th>\n",
       "      <th>quantity</th>\n",
       "    </tr>\n",
       "    <tr>\n",
       "      <th>item_name</th>\n",
       "      <th></th>\n",
       "      <th></th>\n",
       "    </tr>\n",
       "  </thead>\n",
       "  <tbody>\n",
       "    <tr>\n",
       "      <th>Chicken Bowl</th>\n",
       "      <td>726</td>\n",
       "      <td>761</td>\n",
       "    </tr>\n",
       "  </tbody>\n",
       "</table>\n",
       "</div>"
      ],
      "text/plain": [
       "              order_id  quantity\n",
       "item_name                       \n",
       "Chicken Bowl       726       761"
      ]
     },
     "execution_count": 91,
     "metadata": {},
     "output_type": "execute_result"
    }
   ],
   "source": [
    "df = chipo.groupby('item_name').agg({'order_id': 'count', 'quantity': 'sum'})\n",
    "most_ordered_item = df.sort_values(by='order_id', ascending=False).head(1)\n",
    "most_ordered_item"
   ]
  },
  {
   "cell_type": "markdown",
   "id": "3dfb6809",
   "metadata": {},
   "source": [
    "Step 10. For the most-ordered item, how many items were ordered?"
   ]
  },
  {
   "cell_type": "code",
   "execution_count": 92,
   "id": "ee84c7cb",
   "metadata": {
    "scrolled": true
   },
   "outputs": [
    {
     "name": "stdout",
     "output_type": "stream",
     "text": [
      "The quantity of items are :  761\n"
     ]
    }
   ],
   "source": [
    "print(\"The quantity of items are : \",most_ordered_item['quantity'].values[0])"
   ]
  },
  {
   "cell_type": "markdown",
   "id": "6bc566f2",
   "metadata": {},
   "source": [
    "Step 11. What was the most ordered item in the choice_description column?"
   ]
  },
  {
   "cell_type": "code",
   "execution_count": 93,
   "id": "433e2be1",
   "metadata": {},
   "outputs": [
    {
     "data": {
      "text/html": [
       "<div>\n",
       "<style scoped>\n",
       "    .dataframe tbody tr th:only-of-type {\n",
       "        vertical-align: middle;\n",
       "    }\n",
       "\n",
       "    .dataframe tbody tr th {\n",
       "        vertical-align: top;\n",
       "    }\n",
       "\n",
       "    .dataframe thead th {\n",
       "        text-align: right;\n",
       "    }\n",
       "</style>\n",
       "<table border=\"1\" class=\"dataframe\">\n",
       "  <thead>\n",
       "    <tr style=\"text-align: right;\">\n",
       "      <th></th>\n",
       "      <th>order_id</th>\n",
       "      <th>quantity</th>\n",
       "    </tr>\n",
       "    <tr>\n",
       "      <th>choice_description</th>\n",
       "      <th></th>\n",
       "      <th></th>\n",
       "    </tr>\n",
       "  </thead>\n",
       "  <tbody>\n",
       "    <tr>\n",
       "      <th>[Diet Coke]</th>\n",
       "      <td>134</td>\n",
       "      <td>159</td>\n",
       "    </tr>\n",
       "  </tbody>\n",
       "</table>\n",
       "</div>"
      ],
      "text/plain": [
       "                    order_id  quantity\n",
       "choice_description                    \n",
       "[Diet Coke]              134       159"
      ]
     },
     "execution_count": 93,
     "metadata": {},
     "output_type": "execute_result"
    }
   ],
   "source": [
    "df = chipo.groupby('choice_description').agg({'order_id': 'count', 'quantity': 'sum'})\n",
    "most_ordered_choice = df.sort_values(by='order_id', ascending=False).head(1)\n",
    "most_ordered_choice"
   ]
  },
  {
   "cell_type": "markdown",
   "id": "33920493",
   "metadata": {},
   "source": [
    "Step 12. How many items were orderd in total?"
   ]
  },
  {
   "cell_type": "code",
   "execution_count": 94,
   "id": "101af70c",
   "metadata": {},
   "outputs": [
    {
     "data": {
      "text/plain": [
       "4972"
      ]
     },
     "execution_count": 94,
     "metadata": {},
     "output_type": "execute_result"
    }
   ],
   "source": [
    "chipo['quantity'].sum()"
   ]
  },
  {
   "cell_type": "markdown",
   "id": "d76c8f3a",
   "metadata": {},
   "source": [
    "Step 13. Turn the item price into a float"
   ]
  },
  {
   "cell_type": "markdown",
   "id": "fc02be1c",
   "metadata": {},
   "source": [
    "Step 13.a. Check the item price type"
   ]
  },
  {
   "cell_type": "code",
   "execution_count": 95,
   "id": "ac9d652c",
   "metadata": {},
   "outputs": [
    {
     "data": {
      "text/plain": [
       "dtype('O')"
      ]
     },
     "execution_count": 95,
     "metadata": {},
     "output_type": "execute_result"
    }
   ],
   "source": [
    "chipo['item_price'].dtypes"
   ]
  },
  {
   "cell_type": "markdown",
   "id": "810976f3",
   "metadata": {},
   "source": [
    "Le type de données \"O\" signifie \"object\",cela indique généralement que la colonne contient des données de type chaîne de caractères (string). "
   ]
  },
  {
   "cell_type": "markdown",
   "id": "c102fbc4",
   "metadata": {},
   "source": [
    "Step 13.b. Create a lambda function and change the type of item price"
   ]
  },
  {
   "cell_type": "code",
   "execution_count": 96,
   "id": "e8f01031",
   "metadata": {},
   "outputs": [],
   "source": [
    "chipo['item_price'] = chipo['item_price'].apply(lambda x: float(x[1:]))  "
   ]
  },
  {
   "cell_type": "markdown",
   "id": "fe325943",
   "metadata": {},
   "source": [
    "Step 13.c. Check the item price type"
   ]
  },
  {
   "cell_type": "code",
   "execution_count": 97,
   "id": "d7f71344",
   "metadata": {},
   "outputs": [
    {
     "data": {
      "text/plain": [
       "dtype('float64')"
      ]
     },
     "execution_count": 97,
     "metadata": {},
     "output_type": "execute_result"
    }
   ],
   "source": [
    "chipo['item_price'].dtypes"
   ]
  },
  {
   "cell_type": "markdown",
   "id": "e9152e48",
   "metadata": {},
   "source": [
    "Step 14. How much was the revenue for the period in the dataset?"
   ]
  },
  {
   "cell_type": "code",
   "execution_count": 98,
   "id": "09210b6f",
   "metadata": {},
   "outputs": [
    {
     "name": "stdout",
     "output_type": "stream",
     "text": [
      "Revenue was : $ 39237.02\n"
     ]
    }
   ],
   "source": [
    "chipo = chipo.assign(revenue = chipo['item_price']*chipo['quantity'])\n",
    "print(\"Revenue was : $\",(chipo['revenue']).sum())"
   ]
  },
  {
   "cell_type": "markdown",
   "id": "8c3c2ffe",
   "metadata": {},
   "source": [
    "Step 15. How many orders were made in the period?"
   ]
  },
  {
   "cell_type": "code",
   "execution_count": 99,
   "id": "7df0ded8",
   "metadata": {},
   "outputs": [
    {
     "data": {
      "text/plain": [
       "1834"
      ]
     },
     "execution_count": 99,
     "metadata": {},
     "output_type": "execute_result"
    }
   ],
   "source": [
    "chipo['order_id'].nunique()"
   ]
  },
  {
   "cell_type": "markdown",
   "id": "f8ba72ac",
   "metadata": {},
   "source": [
    "Step 16. What is the average revenue amount per order?"
   ]
  },
  {
   "cell_type": "code",
   "execution_count": 100,
   "id": "def4723e",
   "metadata": {},
   "outputs": [
    {
     "name": "stdout",
     "output_type": "stream",
     "text": [
      "21.39423118865867\n"
     ]
    }
   ],
   "source": [
    "average_revenue_per_order = chipo.groupby('order_id')['revenue'].sum().mean()\n",
    "print(average_revenue_per_order)"
   ]
  },
  {
   "cell_type": "markdown",
   "id": "123abb42",
   "metadata": {},
   "source": [
    "Step 17. How many different items are sold?"
   ]
  },
  {
   "cell_type": "code",
   "execution_count": 101,
   "id": "aa24f3b6",
   "metadata": {},
   "outputs": [
    {
     "data": {
      "text/plain": [
       "50"
      ]
     },
     "execution_count": 101,
     "metadata": {},
     "output_type": "execute_result"
    }
   ],
   "source": [
    "chipo['item_name'].nunique()"
   ]
  },
  {
   "cell_type": "markdown",
   "id": "6c1d8d69",
   "metadata": {},
   "source": [
    "Item Prices:\n",
    "\n",
    "What is the average price of items?\n"
   ]
  },
  {
   "cell_type": "code",
   "execution_count": 102,
   "id": "88e0e83a",
   "metadata": {},
   "outputs": [
    {
     "name": "stdout",
     "output_type": "stream",
     "text": [
      "the average price of items is :  7.464335785374297\n"
     ]
    }
   ],
   "source": [
    "print(\"the average price of items is : \",chipo['item_price'].mean())"
   ]
  },
  {
   "cell_type": "markdown",
   "id": "b98c09d9",
   "metadata": {},
   "source": [
    "What is the most expensive item?"
   ]
  },
  {
   "cell_type": "code",
   "execution_count": 103,
   "id": "87426bc2",
   "metadata": {},
   "outputs": [
    {
     "name": "stdout",
     "output_type": "stream",
     "text": [
      "the most expensive item is :  Chips and Fresh Tomato Salsa\n"
     ]
    }
   ],
   "source": [
    "most_expensive_item = chipo.loc[chipo['item_price'].idxmax(),'item_name']\n",
    "print(\"the most expensive item is : \",most_expensive_item)"
   ]
  },
  {
   "cell_type": "markdown",
   "id": "ed497632",
   "metadata": {},
   "source": [
    "Order Quantities:\n"
   ]
  },
  {
   "cell_type": "markdown",
   "id": "0ce07ee0",
   "metadata": {},
   "source": [
    "What is the maximum quantity of items ordered in a single order?"
   ]
  },
  {
   "cell_type": "code",
   "execution_count": 104,
   "id": "7b8b0e6f",
   "metadata": {},
   "outputs": [
    {
     "name": "stdout",
     "output_type": "stream",
     "text": [
      "the maximum quantity of items ordered in a single order is:  15\n"
     ]
    }
   ],
   "source": [
    "print(\"the maximum quantity of items ordered in a single order is: \",chipo['quantity'].max())"
   ]
  },
  {
   "cell_type": "markdown",
   "id": "f9802974",
   "metadata": {},
   "source": [
    "Total des ventes par article :\n",
    "\n",
    "Créez une fonction total_sales_per_item() qui retourne, pour chaque article, le total des ventes."
   ]
  },
  {
   "cell_type": "code",
   "execution_count": 105,
   "id": "78febc00",
   "metadata": {},
   "outputs": [
    {
     "data": {
      "text/html": [
       "<div>\n",
       "<style scoped>\n",
       "    .dataframe tbody tr th:only-of-type {\n",
       "        vertical-align: middle;\n",
       "    }\n",
       "\n",
       "    .dataframe tbody tr th {\n",
       "        vertical-align: top;\n",
       "    }\n",
       "\n",
       "    .dataframe thead th {\n",
       "        text-align: right;\n",
       "    }\n",
       "</style>\n",
       "<table border=\"1\" class=\"dataframe\">\n",
       "  <thead>\n",
       "    <tr style=\"text-align: right;\">\n",
       "      <th></th>\n",
       "      <th>revenue</th>\n",
       "    </tr>\n",
       "    <tr>\n",
       "      <th>item_name</th>\n",
       "      <th></th>\n",
       "    </tr>\n",
       "  </thead>\n",
       "  <tbody>\n",
       "    <tr>\n",
       "      <th>6 Pack Soft Drink</th>\n",
       "      <td>369.93</td>\n",
       "    </tr>\n",
       "    <tr>\n",
       "      <th>Barbacoa Bowl</th>\n",
       "      <td>672.36</td>\n",
       "    </tr>\n",
       "    <tr>\n",
       "      <th>Barbacoa Burrito</th>\n",
       "      <td>894.75</td>\n",
       "    </tr>\n",
       "    <tr>\n",
       "      <th>Barbacoa Crispy Tacos</th>\n",
       "      <td>138.71</td>\n",
       "    </tr>\n",
       "    <tr>\n",
       "      <th>Barbacoa Salad Bowl</th>\n",
       "      <td>106.40</td>\n",
       "    </tr>\n",
       "    <tr>\n",
       "      <th>Barbacoa Soft Tacos</th>\n",
       "      <td>250.46</td>\n",
       "    </tr>\n",
       "    <tr>\n",
       "      <th>Bottled Water</th>\n",
       "      <td>649.18</td>\n",
       "    </tr>\n",
       "    <tr>\n",
       "      <th>Bowl</th>\n",
       "      <td>74.00</td>\n",
       "    </tr>\n",
       "    <tr>\n",
       "      <th>Burrito</th>\n",
       "      <td>44.40</td>\n",
       "    </tr>\n",
       "    <tr>\n",
       "      <th>Canned Soda</th>\n",
       "      <td>191.84</td>\n",
       "    </tr>\n",
       "    <tr>\n",
       "      <th>Canned Soft Drink</th>\n",
       "      <td>603.75</td>\n",
       "    </tr>\n",
       "    <tr>\n",
       "      <th>Carnitas Bowl</th>\n",
       "      <td>830.71</td>\n",
       "    </tr>\n",
       "    <tr>\n",
       "      <th>Carnitas Burrito</th>\n",
       "      <td>616.33</td>\n",
       "    </tr>\n",
       "    <tr>\n",
       "      <th>Carnitas Crispy Tacos</th>\n",
       "      <td>95.94</td>\n",
       "    </tr>\n",
       "    <tr>\n",
       "      <th>Carnitas Salad</th>\n",
       "      <td>8.99</td>\n",
       "    </tr>\n",
       "    <tr>\n",
       "      <th>Carnitas Salad Bowl</th>\n",
       "      <td>66.34</td>\n",
       "    </tr>\n",
       "    <tr>\n",
       "      <th>Carnitas Soft Tacos</th>\n",
       "      <td>375.94</td>\n",
       "    </tr>\n",
       "    <tr>\n",
       "      <th>Chicken Bowl</th>\n",
       "      <td>8044.63</td>\n",
       "    </tr>\n",
       "    <tr>\n",
       "      <th>Chicken Burrito</th>\n",
       "      <td>6387.06</td>\n",
       "    </tr>\n",
       "    <tr>\n",
       "      <th>Chicken Crispy Tacos</th>\n",
       "      <td>524.11</td>\n",
       "    </tr>\n",
       "    <tr>\n",
       "      <th>Chicken Salad</th>\n",
       "      <td>81.09</td>\n",
       "    </tr>\n",
       "    <tr>\n",
       "      <th>Chicken Salad Bowl</th>\n",
       "      <td>1506.25</td>\n",
       "    </tr>\n",
       "    <tr>\n",
       "      <th>Chicken Soft Tacos</th>\n",
       "      <td>1199.01</td>\n",
       "    </tr>\n",
       "    <tr>\n",
       "      <th>Chips</th>\n",
       "      <td>580.34</td>\n",
       "    </tr>\n",
       "    <tr>\n",
       "      <th>Chips and Fresh Tomato Salsa</th>\n",
       "      <td>1033.96</td>\n",
       "    </tr>\n",
       "    <tr>\n",
       "      <th>Chips and Guacamole</th>\n",
       "      <td>2475.62</td>\n",
       "    </tr>\n",
       "    <tr>\n",
       "      <th>Chips and Mild Fresh Tomato Salsa</th>\n",
       "      <td>3.00</td>\n",
       "    </tr>\n",
       "    <tr>\n",
       "      <th>Chips and Roasted Chili Corn Salsa</th>\n",
       "      <td>73.75</td>\n",
       "    </tr>\n",
       "    <tr>\n",
       "      <th>Chips and Roasted Chili-Corn Salsa</th>\n",
       "      <td>43.02</td>\n",
       "    </tr>\n",
       "    <tr>\n",
       "      <th>Chips and Tomatillo Green Chili Salsa</th>\n",
       "      <td>144.55</td>\n",
       "    </tr>\n",
       "    <tr>\n",
       "      <th>Chips and Tomatillo Red Chili Salsa</th>\n",
       "      <td>159.30</td>\n",
       "    </tr>\n",
       "    <tr>\n",
       "      <th>Chips and Tomatillo-Green Chili Salsa</th>\n",
       "      <td>88.43</td>\n",
       "    </tr>\n",
       "    <tr>\n",
       "      <th>Chips and Tomatillo-Red Chili Salsa</th>\n",
       "      <td>93.21</td>\n",
       "    </tr>\n",
       "    <tr>\n",
       "      <th>Crispy Tacos</th>\n",
       "      <td>14.80</td>\n",
       "    </tr>\n",
       "    <tr>\n",
       "      <th>Izze</th>\n",
       "      <td>67.80</td>\n",
       "    </tr>\n",
       "    <tr>\n",
       "      <th>Nantucket Nectar</th>\n",
       "      <td>111.87</td>\n",
       "    </tr>\n",
       "    <tr>\n",
       "      <th>Salad</th>\n",
       "      <td>14.80</td>\n",
       "    </tr>\n",
       "    <tr>\n",
       "      <th>Side of Chips</th>\n",
       "      <td>290.68</td>\n",
       "    </tr>\n",
       "    <tr>\n",
       "      <th>Steak Bowl</th>\n",
       "      <td>2479.81</td>\n",
       "    </tr>\n",
       "    <tr>\n",
       "      <th>Steak Burrito</th>\n",
       "      <td>4236.13</td>\n",
       "    </tr>\n",
       "    <tr>\n",
       "      <th>Steak Crispy Tacos</th>\n",
       "      <td>375.32</td>\n",
       "    </tr>\n",
       "    <tr>\n",
       "      <th>Steak Salad</th>\n",
       "      <td>35.66</td>\n",
       "    </tr>\n",
       "    <tr>\n",
       "      <th>Steak Salad Bowl</th>\n",
       "      <td>391.15</td>\n",
       "    </tr>\n",
       "    <tr>\n",
       "      <th>Steak Soft Tacos</th>\n",
       "      <td>554.55</td>\n",
       "    </tr>\n",
       "    <tr>\n",
       "      <th>Veggie Bowl</th>\n",
       "      <td>901.95</td>\n",
       "    </tr>\n",
       "    <tr>\n",
       "      <th>Veggie Burrito</th>\n",
       "      <td>1002.27</td>\n",
       "    </tr>\n",
       "    <tr>\n",
       "      <th>Veggie Crispy Tacos</th>\n",
       "      <td>8.49</td>\n",
       "    </tr>\n",
       "    <tr>\n",
       "      <th>Veggie Salad</th>\n",
       "      <td>50.94</td>\n",
       "    </tr>\n",
       "    <tr>\n",
       "      <th>Veggie Salad Bowl</th>\n",
       "      <td>182.50</td>\n",
       "    </tr>\n",
       "    <tr>\n",
       "      <th>Veggie Soft Tacos</th>\n",
       "      <td>90.94</td>\n",
       "    </tr>\n",
       "  </tbody>\n",
       "</table>\n",
       "</div>"
      ],
      "text/plain": [
       "                                       revenue\n",
       "item_name                                     \n",
       "6 Pack Soft Drink                       369.93\n",
       "Barbacoa Bowl                           672.36\n",
       "Barbacoa Burrito                        894.75\n",
       "Barbacoa Crispy Tacos                   138.71\n",
       "Barbacoa Salad Bowl                     106.40\n",
       "Barbacoa Soft Tacos                     250.46\n",
       "Bottled Water                           649.18\n",
       "Bowl                                     74.00\n",
       "Burrito                                  44.40\n",
       "Canned Soda                             191.84\n",
       "Canned Soft Drink                       603.75\n",
       "Carnitas Bowl                           830.71\n",
       "Carnitas Burrito                        616.33\n",
       "Carnitas Crispy Tacos                    95.94\n",
       "Carnitas Salad                            8.99\n",
       "Carnitas Salad Bowl                      66.34\n",
       "Carnitas Soft Tacos                     375.94\n",
       "Chicken Bowl                           8044.63\n",
       "Chicken Burrito                        6387.06\n",
       "Chicken Crispy Tacos                    524.11\n",
       "Chicken Salad                            81.09\n",
       "Chicken Salad Bowl                     1506.25\n",
       "Chicken Soft Tacos                     1199.01\n",
       "Chips                                   580.34\n",
       "Chips and Fresh Tomato Salsa           1033.96\n",
       "Chips and Guacamole                    2475.62\n",
       "Chips and Mild Fresh Tomato Salsa         3.00\n",
       "Chips and Roasted Chili Corn Salsa       73.75\n",
       "Chips and Roasted Chili-Corn Salsa       43.02\n",
       "Chips and Tomatillo Green Chili Salsa   144.55\n",
       "Chips and Tomatillo Red Chili Salsa     159.30\n",
       "Chips and Tomatillo-Green Chili Salsa    88.43\n",
       "Chips and Tomatillo-Red Chili Salsa      93.21\n",
       "Crispy Tacos                             14.80\n",
       "Izze                                     67.80\n",
       "Nantucket Nectar                        111.87\n",
       "Salad                                    14.80\n",
       "Side of Chips                           290.68\n",
       "Steak Bowl                             2479.81\n",
       "Steak Burrito                          4236.13\n",
       "Steak Crispy Tacos                      375.32\n",
       "Steak Salad                              35.66\n",
       "Steak Salad Bowl                        391.15\n",
       "Steak Soft Tacos                        554.55\n",
       "Veggie Bowl                             901.95\n",
       "Veggie Burrito                         1002.27\n",
       "Veggie Crispy Tacos                       8.49\n",
       "Veggie Salad                             50.94\n",
       "Veggie Salad Bowl                       182.50\n",
       "Veggie Soft Tacos                        90.94"
      ]
     },
     "execution_count": 105,
     "metadata": {},
     "output_type": "execute_result"
    }
   ],
   "source": [
    "def total_sales_per_item():\n",
    "    df = pd.pivot_table(chipo , index = ['item_name'], values=['revenue'], aggfunc='sum')\n",
    "    return df\n",
    "total_sales_per_item()"
   ]
  },
  {
   "cell_type": "markdown",
   "id": "636c5133",
   "metadata": {},
   "source": [
    "Articles les plus vendus :\n",
    "\n",
    "Créez une fonction top_selling_items(n) qui retourne les N articles les plus vendus."
   ]
  },
  {
   "cell_type": "code",
   "execution_count": 106,
   "id": "3ecd0faa",
   "metadata": {},
   "outputs": [
    {
     "data": {
      "text/plain": [
       "item_name\n",
       "Chicken Bowl           761\n",
       "Chicken Burrito        591\n",
       "Chips and Guacamole    506\n",
       "Steak Burrito          386\n",
       "Canned Soft Drink      351\n",
       "Chips                  230\n",
       "Steak Bowl             221\n",
       "Name: quantity, dtype: int64"
      ]
     },
     "execution_count": 106,
     "metadata": {},
     "output_type": "execute_result"
    }
   ],
   "source": [
    "#1ère methode\n",
    "def top_selling_items(n):\n",
    "    df = chipo.groupby('item_name')['quantity'].sum()\n",
    "    most_ordered_item = df.sort_values(ascending=False).head(n)\n",
    "    return most_ordered_item\n",
    "\n",
    "top_selling_items(7)"
   ]
  },
  {
   "cell_type": "raw",
   "id": "75392856",
   "metadata": {},
   "source": [
    "La méthode nlargest(n) est une fonction de pandas qui est utilisée pour obtenir les n plus grandes valeurs d'une Series ou d'un DataFrame"
   ]
  },
  {
   "cell_type": "code",
   "execution_count": 107,
   "id": "0e1a9704",
   "metadata": {},
   "outputs": [
    {
     "data": {
      "text/plain": [
       "item_name\n",
       "Chicken Bowl           761\n",
       "Chicken Burrito        591\n",
       "Chips and Guacamole    506\n",
       "Steak Burrito          386\n",
       "Canned Soft Drink      351\n",
       "Name: quantity, dtype: int64"
      ]
     },
     "execution_count": 107,
     "metadata": {},
     "output_type": "execute_result"
    }
   ],
   "source": [
    "#2ème methode\n",
    "def top_selling_items(n):\n",
    "    return chipo.groupby('item_name')['quantity'].sum().nlargest(n)\n",
    "top_selling_items(5)"
   ]
  },
  {
   "cell_type": "markdown",
   "id": "8810a8be",
   "metadata": {},
   "source": [
    "Statistiques des quantités commandées :\n",
    "\n",
    "Créez une fonction order_quantity_stats() qui retourne des statistiques descriptives sur les quantités commandées, telles que la moyenne, la médiane, l'écart-type, etc."
   ]
  },
  {
   "cell_type": "code",
   "execution_count": 108,
   "id": "5057e936",
   "metadata": {},
   "outputs": [
    {
     "name": "stdout",
     "output_type": "stream",
     "text": [
      "count    4622.000000\n",
      "mean        1.075725\n",
      "std         0.410186\n",
      "min         1.000000\n",
      "25%         1.000000\n",
      "50%         1.000000\n",
      "75%         1.000000\n",
      "max        15.000000\n",
      "Name: quantity, dtype: float64\n"
     ]
    }
   ],
   "source": [
    "def order_quantity_stats():\n",
    "    print(chipo['quantity'].describe())\n",
    "order_quantity_stats()"
   ]
  },
  {
   "cell_type": "markdown",
   "id": "3d990002",
   "metadata": {},
   "source": [
    "Variation de prix :\n",
    "\n",
    "Créez une fonction price_variation() qui examine la variation des prix des articles."
   ]
  },
  {
   "cell_type": "code",
   "execution_count": 109,
   "id": "71b58aa9",
   "metadata": {},
   "outputs": [
    {
     "data": {
      "text/html": [
       "<div>\n",
       "<style scoped>\n",
       "    .dataframe tbody tr th:only-of-type {\n",
       "        vertical-align: middle;\n",
       "    }\n",
       "\n",
       "    .dataframe tbody tr th {\n",
       "        vertical-align: top;\n",
       "    }\n",
       "\n",
       "    .dataframe thead th {\n",
       "        text-align: right;\n",
       "    }\n",
       "</style>\n",
       "<table border=\"1\" class=\"dataframe\">\n",
       "  <thead>\n",
       "    <tr style=\"text-align: right;\">\n",
       "      <th></th>\n",
       "      <th>min</th>\n",
       "      <th>max</th>\n",
       "      <th>mean</th>\n",
       "      <th>std</th>\n",
       "    </tr>\n",
       "    <tr>\n",
       "      <th>item_name</th>\n",
       "      <th></th>\n",
       "      <th></th>\n",
       "      <th></th>\n",
       "      <th></th>\n",
       "    </tr>\n",
       "  </thead>\n",
       "  <tbody>\n",
       "    <tr>\n",
       "      <th>6 Pack Soft Drink</th>\n",
       "      <td>6.49</td>\n",
       "      <td>12.98</td>\n",
       "      <td>6.610185</td>\n",
       "      <td>0.883177</td>\n",
       "    </tr>\n",
       "    <tr>\n",
       "      <th>Barbacoa Bowl</th>\n",
       "      <td>8.69</td>\n",
       "      <td>11.75</td>\n",
       "      <td>10.187273</td>\n",
       "      <td>1.260994</td>\n",
       "    </tr>\n",
       "    <tr>\n",
       "      <th>Barbacoa Burrito</th>\n",
       "      <td>8.69</td>\n",
       "      <td>11.75</td>\n",
       "      <td>9.832418</td>\n",
       "      <td>1.139519</td>\n",
       "    </tr>\n",
       "    <tr>\n",
       "      <th>Barbacoa Crispy Tacos</th>\n",
       "      <td>8.99</td>\n",
       "      <td>18.50</td>\n",
       "      <td>10.928182</td>\n",
       "      <td>2.800739</td>\n",
       "    </tr>\n",
       "    <tr>\n",
       "      <th>Barbacoa Salad Bowl</th>\n",
       "      <td>9.39</td>\n",
       "      <td>11.89</td>\n",
       "      <td>10.640000</td>\n",
       "      <td>1.317616</td>\n",
       "    </tr>\n",
       "    <tr>\n",
       "      <th>Barbacoa Soft Tacos</th>\n",
       "      <td>8.99</td>\n",
       "      <td>11.75</td>\n",
       "      <td>10.018400</td>\n",
       "      <td>1.191937</td>\n",
       "    </tr>\n",
       "    <tr>\n",
       "      <th>Bottled Water</th>\n",
       "      <td>1.09</td>\n",
       "      <td>15.00</td>\n",
       "      <td>1.867654</td>\n",
       "      <td>1.547295</td>\n",
       "    </tr>\n",
       "    <tr>\n",
       "      <th>Bowl</th>\n",
       "      <td>7.40</td>\n",
       "      <td>22.20</td>\n",
       "      <td>14.800000</td>\n",
       "      <td>10.465180</td>\n",
       "    </tr>\n",
       "    <tr>\n",
       "      <th>Burrito</th>\n",
       "      <td>7.40</td>\n",
       "      <td>7.40</td>\n",
       "      <td>7.400000</td>\n",
       "      <td>0.000000</td>\n",
       "    </tr>\n",
       "    <tr>\n",
       "      <th>Canned Soda</th>\n",
       "      <td>1.09</td>\n",
       "      <td>4.36</td>\n",
       "      <td>1.320577</td>\n",
       "      <td>0.518938</td>\n",
       "    </tr>\n",
       "    <tr>\n",
       "      <th>Canned Soft Drink</th>\n",
       "      <td>1.25</td>\n",
       "      <td>5.00</td>\n",
       "      <td>1.457641</td>\n",
       "      <td>0.619536</td>\n",
       "    </tr>\n",
       "    <tr>\n",
       "      <th>Carnitas Bowl</th>\n",
       "      <td>8.99</td>\n",
       "      <td>35.25</td>\n",
       "      <td>10.833971</td>\n",
       "      <td>3.622600</td>\n",
       "    </tr>\n",
       "    <tr>\n",
       "      <th>Carnitas Burrito</th>\n",
       "      <td>8.69</td>\n",
       "      <td>18.50</td>\n",
       "      <td>10.132712</td>\n",
       "      <td>1.630111</td>\n",
       "    </tr>\n",
       "    <tr>\n",
       "      <th>Carnitas Crispy Tacos</th>\n",
       "      <td>8.99</td>\n",
       "      <td>17.98</td>\n",
       "      <td>11.137143</td>\n",
       "      <td>3.263917</td>\n",
       "    </tr>\n",
       "    <tr>\n",
       "      <th>Carnitas Salad</th>\n",
       "      <td>8.99</td>\n",
       "      <td>8.99</td>\n",
       "      <td>8.990000</td>\n",
       "      <td>NaN</td>\n",
       "    </tr>\n",
       "    <tr>\n",
       "      <th>Carnitas Salad Bowl</th>\n",
       "      <td>9.39</td>\n",
       "      <td>11.89</td>\n",
       "      <td>11.056667</td>\n",
       "      <td>1.290994</td>\n",
       "    </tr>\n",
       "    <tr>\n",
       "      <th>Carnitas Soft Tacos</th>\n",
       "      <td>8.99</td>\n",
       "      <td>11.75</td>\n",
       "      <td>9.398500</td>\n",
       "      <td>0.684508</td>\n",
       "    </tr>\n",
       "    <tr>\n",
       "      <th>Chicken Bowl</th>\n",
       "      <td>8.19</td>\n",
       "      <td>32.94</td>\n",
       "      <td>10.113953</td>\n",
       "      <td>2.489791</td>\n",
       "    </tr>\n",
       "    <tr>\n",
       "      <th>Chicken Burrito</th>\n",
       "      <td>8.19</td>\n",
       "      <td>35.00</td>\n",
       "      <td>10.082857</td>\n",
       "      <td>2.810144</td>\n",
       "    </tr>\n",
       "    <tr>\n",
       "      <th>Chicken Crispy Tacos</th>\n",
       "      <td>8.49</td>\n",
       "      <td>17.50</td>\n",
       "      <td>10.045319</td>\n",
       "      <td>2.260303</td>\n",
       "    </tr>\n",
       "    <tr>\n",
       "      <th>Chicken Salad</th>\n",
       "      <td>8.19</td>\n",
       "      <td>10.98</td>\n",
       "      <td>9.010000</td>\n",
       "      <td>1.121194</td>\n",
       "    </tr>\n",
       "    <tr>\n",
       "      <th>Chicken Salad Bowl</th>\n",
       "      <td>8.75</td>\n",
       "      <td>22.50</td>\n",
       "      <td>11.170455</td>\n",
       "      <td>3.986349</td>\n",
       "    </tr>\n",
       "    <tr>\n",
       "      <th>Chicken Soft Tacos</th>\n",
       "      <td>8.49</td>\n",
       "      <td>21.96</td>\n",
       "      <td>9.635565</td>\n",
       "      <td>2.150383</td>\n",
       "    </tr>\n",
       "    <tr>\n",
       "      <th>Chips</th>\n",
       "      <td>1.99</td>\n",
       "      <td>6.45</td>\n",
       "      <td>2.342844</td>\n",
       "      <td>0.651925</td>\n",
       "    </tr>\n",
       "    <tr>\n",
       "      <th>Chips and Fresh Tomato Salsa</th>\n",
       "      <td>2.29</td>\n",
       "      <td>44.25</td>\n",
       "      <td>3.285091</td>\n",
       "      <td>4.075396</td>\n",
       "    </tr>\n",
       "    <tr>\n",
       "      <th>Chips and Guacamole</th>\n",
       "      <td>3.89</td>\n",
       "      <td>17.80</td>\n",
       "      <td>4.595073</td>\n",
       "      <td>1.206059</td>\n",
       "    </tr>\n",
       "    <tr>\n",
       "      <th>Chips and Mild Fresh Tomato Salsa</th>\n",
       "      <td>3.00</td>\n",
       "      <td>3.00</td>\n",
       "      <td>3.000000</td>\n",
       "      <td>NaN</td>\n",
       "    </tr>\n",
       "    <tr>\n",
       "      <th>Chips and Roasted Chili Corn Salsa</th>\n",
       "      <td>2.95</td>\n",
       "      <td>5.90</td>\n",
       "      <td>3.084091</td>\n",
       "      <td>0.628942</td>\n",
       "    </tr>\n",
       "    <tr>\n",
       "      <th>Chips and Roasted Chili-Corn Salsa</th>\n",
       "      <td>2.39</td>\n",
       "      <td>2.39</td>\n",
       "      <td>2.390000</td>\n",
       "      <td>0.000000</td>\n",
       "    </tr>\n",
       "    <tr>\n",
       "      <th>Chips and Tomatillo Green Chili Salsa</th>\n",
       "      <td>2.95</td>\n",
       "      <td>5.90</td>\n",
       "      <td>3.087209</td>\n",
       "      <td>0.628594</td>\n",
       "    </tr>\n",
       "    <tr>\n",
       "      <th>Chips and Tomatillo Red Chili Salsa</th>\n",
       "      <td>2.95</td>\n",
       "      <td>5.90</td>\n",
       "      <td>3.072917</td>\n",
       "      <td>0.595726</td>\n",
       "    </tr>\n",
       "    <tr>\n",
       "      <th>Chips and Tomatillo-Green Chili Salsa</th>\n",
       "      <td>2.39</td>\n",
       "      <td>4.78</td>\n",
       "      <td>2.544194</td>\n",
       "      <td>0.596857</td>\n",
       "    </tr>\n",
       "    <tr>\n",
       "      <th>Chips and Tomatillo-Red Chili Salsa</th>\n",
       "      <td>2.39</td>\n",
       "      <td>7.17</td>\n",
       "      <td>2.987500</td>\n",
       "      <td>1.526413</td>\n",
       "    </tr>\n",
       "    <tr>\n",
       "      <th>Crispy Tacos</th>\n",
       "      <td>7.40</td>\n",
       "      <td>7.40</td>\n",
       "      <td>7.400000</td>\n",
       "      <td>0.000000</td>\n",
       "    </tr>\n",
       "    <tr>\n",
       "      <th>Izze</th>\n",
       "      <td>3.39</td>\n",
       "      <td>3.39</td>\n",
       "      <td>3.390000</td>\n",
       "      <td>0.000000</td>\n",
       "    </tr>\n",
       "    <tr>\n",
       "      <th>Nantucket Nectar</th>\n",
       "      <td>3.39</td>\n",
       "      <td>6.78</td>\n",
       "      <td>3.641111</td>\n",
       "      <td>0.904724</td>\n",
       "    </tr>\n",
       "    <tr>\n",
       "      <th>Salad</th>\n",
       "      <td>7.40</td>\n",
       "      <td>7.40</td>\n",
       "      <td>7.400000</td>\n",
       "      <td>0.000000</td>\n",
       "    </tr>\n",
       "    <tr>\n",
       "      <th>Side of Chips</th>\n",
       "      <td>1.69</td>\n",
       "      <td>13.52</td>\n",
       "      <td>1.840594</td>\n",
       "      <td>1.220995</td>\n",
       "    </tr>\n",
       "    <tr>\n",
       "      <th>Steak Bowl</th>\n",
       "      <td>8.69</td>\n",
       "      <td>26.07</td>\n",
       "      <td>10.711801</td>\n",
       "      <td>2.672417</td>\n",
       "    </tr>\n",
       "    <tr>\n",
       "      <th>Steak Burrito</th>\n",
       "      <td>8.69</td>\n",
       "      <td>27.75</td>\n",
       "      <td>10.465842</td>\n",
       "      <td>2.571981</td>\n",
       "    </tr>\n",
       "    <tr>\n",
       "      <th>Steak Crispy Tacos</th>\n",
       "      <td>8.69</td>\n",
       "      <td>17.98</td>\n",
       "      <td>10.209714</td>\n",
       "      <td>1.827732</td>\n",
       "    </tr>\n",
       "    <tr>\n",
       "      <th>Steak Salad</th>\n",
       "      <td>8.69</td>\n",
       "      <td>8.99</td>\n",
       "      <td>8.915000</td>\n",
       "      <td>0.150000</td>\n",
       "    </tr>\n",
       "    <tr>\n",
       "      <th>Steak Salad Bowl</th>\n",
       "      <td>9.39</td>\n",
       "      <td>23.78</td>\n",
       "      <td>11.847931</td>\n",
       "      <td>3.511170</td>\n",
       "    </tr>\n",
       "    <tr>\n",
       "      <th>Steak Soft Tacos</th>\n",
       "      <td>8.99</td>\n",
       "      <td>18.50</td>\n",
       "      <td>9.746364</td>\n",
       "      <td>1.523743</td>\n",
       "    </tr>\n",
       "    <tr>\n",
       "      <th>Veggie Bowl</th>\n",
       "      <td>8.49</td>\n",
       "      <td>16.98</td>\n",
       "      <td>10.211647</td>\n",
       "      <td>1.658164</td>\n",
       "    </tr>\n",
       "    <tr>\n",
       "      <th>Veggie Burrito</th>\n",
       "      <td>8.49</td>\n",
       "      <td>33.75</td>\n",
       "      <td>9.839684</td>\n",
       "      <td>2.795877</td>\n",
       "    </tr>\n",
       "    <tr>\n",
       "      <th>Veggie Crispy Tacos</th>\n",
       "      <td>8.49</td>\n",
       "      <td>8.49</td>\n",
       "      <td>8.490000</td>\n",
       "      <td>NaN</td>\n",
       "    </tr>\n",
       "    <tr>\n",
       "      <th>Veggie Salad</th>\n",
       "      <td>8.49</td>\n",
       "      <td>8.49</td>\n",
       "      <td>8.490000</td>\n",
       "      <td>0.000000</td>\n",
       "    </tr>\n",
       "    <tr>\n",
       "      <th>Veggie Salad Bowl</th>\n",
       "      <td>8.75</td>\n",
       "      <td>11.25</td>\n",
       "      <td>10.138889</td>\n",
       "      <td>1.278275</td>\n",
       "    </tr>\n",
       "    <tr>\n",
       "      <th>Veggie Soft Tacos</th>\n",
       "      <td>8.49</td>\n",
       "      <td>16.98</td>\n",
       "      <td>10.565714</td>\n",
       "      <td>3.090048</td>\n",
       "    </tr>\n",
       "  </tbody>\n",
       "</table>\n",
       "</div>"
      ],
      "text/plain": [
       "                                        min    max       mean        std\n",
       "item_name                                                               \n",
       "6 Pack Soft Drink                      6.49  12.98   6.610185   0.883177\n",
       "Barbacoa Bowl                          8.69  11.75  10.187273   1.260994\n",
       "Barbacoa Burrito                       8.69  11.75   9.832418   1.139519\n",
       "Barbacoa Crispy Tacos                  8.99  18.50  10.928182   2.800739\n",
       "Barbacoa Salad Bowl                    9.39  11.89  10.640000   1.317616\n",
       "Barbacoa Soft Tacos                    8.99  11.75  10.018400   1.191937\n",
       "Bottled Water                          1.09  15.00   1.867654   1.547295\n",
       "Bowl                                   7.40  22.20  14.800000  10.465180\n",
       "Burrito                                7.40   7.40   7.400000   0.000000\n",
       "Canned Soda                            1.09   4.36   1.320577   0.518938\n",
       "Canned Soft Drink                      1.25   5.00   1.457641   0.619536\n",
       "Carnitas Bowl                          8.99  35.25  10.833971   3.622600\n",
       "Carnitas Burrito                       8.69  18.50  10.132712   1.630111\n",
       "Carnitas Crispy Tacos                  8.99  17.98  11.137143   3.263917\n",
       "Carnitas Salad                         8.99   8.99   8.990000        NaN\n",
       "Carnitas Salad Bowl                    9.39  11.89  11.056667   1.290994\n",
       "Carnitas Soft Tacos                    8.99  11.75   9.398500   0.684508\n",
       "Chicken Bowl                           8.19  32.94  10.113953   2.489791\n",
       "Chicken Burrito                        8.19  35.00  10.082857   2.810144\n",
       "Chicken Crispy Tacos                   8.49  17.50  10.045319   2.260303\n",
       "Chicken Salad                          8.19  10.98   9.010000   1.121194\n",
       "Chicken Salad Bowl                     8.75  22.50  11.170455   3.986349\n",
       "Chicken Soft Tacos                     8.49  21.96   9.635565   2.150383\n",
       "Chips                                  1.99   6.45   2.342844   0.651925\n",
       "Chips and Fresh Tomato Salsa           2.29  44.25   3.285091   4.075396\n",
       "Chips and Guacamole                    3.89  17.80   4.595073   1.206059\n",
       "Chips and Mild Fresh Tomato Salsa      3.00   3.00   3.000000        NaN\n",
       "Chips and Roasted Chili Corn Salsa     2.95   5.90   3.084091   0.628942\n",
       "Chips and Roasted Chili-Corn Salsa     2.39   2.39   2.390000   0.000000\n",
       "Chips and Tomatillo Green Chili Salsa  2.95   5.90   3.087209   0.628594\n",
       "Chips and Tomatillo Red Chili Salsa    2.95   5.90   3.072917   0.595726\n",
       "Chips and Tomatillo-Green Chili Salsa  2.39   4.78   2.544194   0.596857\n",
       "Chips and Tomatillo-Red Chili Salsa    2.39   7.17   2.987500   1.526413\n",
       "Crispy Tacos                           7.40   7.40   7.400000   0.000000\n",
       "Izze                                   3.39   3.39   3.390000   0.000000\n",
       "Nantucket Nectar                       3.39   6.78   3.641111   0.904724\n",
       "Salad                                  7.40   7.40   7.400000   0.000000\n",
       "Side of Chips                          1.69  13.52   1.840594   1.220995\n",
       "Steak Bowl                             8.69  26.07  10.711801   2.672417\n",
       "Steak Burrito                          8.69  27.75  10.465842   2.571981\n",
       "Steak Crispy Tacos                     8.69  17.98  10.209714   1.827732\n",
       "Steak Salad                            8.69   8.99   8.915000   0.150000\n",
       "Steak Salad Bowl                       9.39  23.78  11.847931   3.511170\n",
       "Steak Soft Tacos                       8.99  18.50   9.746364   1.523743\n",
       "Veggie Bowl                            8.49  16.98  10.211647   1.658164\n",
       "Veggie Burrito                         8.49  33.75   9.839684   2.795877\n",
       "Veggie Crispy Tacos                    8.49   8.49   8.490000        NaN\n",
       "Veggie Salad                           8.49   8.49   8.490000   0.000000\n",
       "Veggie Salad Bowl                      8.75  11.25  10.138889   1.278275\n",
       "Veggie Soft Tacos                      8.49  16.98  10.565714   3.090048"
      ]
     },
     "execution_count": 109,
     "metadata": {},
     "output_type": "execute_result"
    }
   ],
   "source": [
    "def price_variation():\n",
    "    # Calculer la variation de prix pour chaque article\n",
    "    # Assurez-vous que 'item_price' est de type float\n",
    "    price_variation = chipo.groupby('item_name')['item_price'].agg(['min', 'max', 'mean', 'std'])\n",
    "    price_variation\n",
    "    return price_variation\n",
    "price_variation()"
   ]
  },
  {
   "cell_type": "markdown",
   "id": "d15e4e29",
   "metadata": {},
   "source": [
    "Analyse du panier moyen :\n",
    "\n",
    "Créez une fonction average_order_value() qui retourne le panier moyen, c'est-à-dire la moyenne des valeurs des commandes."
   ]
  },
  {
   "cell_type": "code",
   "execution_count": 110,
   "id": "e057d2ba",
   "metadata": {},
   "outputs": [
    {
     "data": {
      "text/plain": [
       "21.39423118865867"
      ]
     },
     "execution_count": 110,
     "metadata": {},
     "output_type": "execute_result"
    }
   ],
   "source": [
    "def average_order_value():\n",
    "    # Calculer le panier moyen\n",
    "    avg_order_value = chipo.groupby('order_id')['revenue'].sum().mean()\n",
    "    return avg_order_value\n",
    "average_order_value()"
   ]
  },
  {
   "cell_type": "markdown",
   "id": "34d91465",
   "metadata": {},
   "source": [
    "Distribution des prix :\n",
    "\n",
    "Créez une fonction price_distribution() qui affiche un histogramme montrant la distribution des prix des articles."
   ]
  },
  {
   "cell_type": "code",
   "execution_count": 111,
   "id": "aaf513b2",
   "metadata": {},
   "outputs": [
    {
     "data": {
      "image/png": "[encoded data removed]",
      "text/plain": [
       "<Figure size 640x480 with 1 Axes>"
      ]
     },
     "metadata": {},
     "output_type": "display_data"
    }
   ],
   "source": [
    "def price_distribution():\n",
    "    # Afficher un histogramme de la distribution des prix des articles\n",
    "    plt.hist(chipo['item_price'], bins=30, color='skyblue', edgecolor='black')\n",
    "    plt.title('Distribution des prix des articles')\n",
    "    plt.xlabel('Prix des articles')\n",
    "    plt.ylabel('Fréquence')\n",
    "    plt.show()\n",
    "price_distribution()"
   ]
  },
  {
   "cell_type": "markdown",
   "id": "77d44a01",
   "metadata": {},
   "source": [
    "Statistiques par catégorie d'article :\n",
    "\n",
    "Créez une fonction category_stats() qui fournit des statistiques descriptives sur les différentes catégories d'articles."
   ]
  },
  {
   "cell_type": "code",
   "execution_count": 112,
   "id": "2043b0d6",
   "metadata": {},
   "outputs": [],
   "source": [
    "chipo['category'] = np.where(chipo['item_name'].str.contains('Bowl'), 'Bowl', 'Other')"
   ]
  },
  {
   "cell_type": "code",
   "execution_count": 117,
   "id": "71d44b4a",
   "metadata": {
    "scrolled": true
   },
   "outputs": [
    {
     "data": {
      "text/html": [
       "<div>\n",
       "<style scoped>\n",
       "    .dataframe tbody tr th:only-of-type {\n",
       "        vertical-align: middle;\n",
       "    }\n",
       "\n",
       "    .dataframe tbody tr th {\n",
       "        vertical-align: top;\n",
       "    }\n",
       "\n",
       "    .dataframe thead th {\n",
       "        text-align: right;\n",
       "    }\n",
       "</style>\n",
       "<table border=\"1\" class=\"dataframe\">\n",
       "  <thead>\n",
       "    <tr style=\"text-align: right;\">\n",
       "      <th></th>\n",
       "      <th>count</th>\n",
       "      <th>mean</th>\n",
       "      <th>std</th>\n",
       "      <th>min</th>\n",
       "      <th>max</th>\n",
       "    </tr>\n",
       "    <tr>\n",
       "      <th>category</th>\n",
       "      <th></th>\n",
       "      <th></th>\n",
       "      <th></th>\n",
       "      <th></th>\n",
       "      <th></th>\n",
       "    </tr>\n",
       "  </thead>\n",
       "  <tbody>\n",
       "    <tr>\n",
       "      <th>Bowl</th>\n",
       "      <td>1331</td>\n",
       "      <td>1.050338</td>\n",
       "      <td>0.235285</td>\n",
       "      <td>1</td>\n",
       "      <td>3</td>\n",
       "    </tr>\n",
       "    <tr>\n",
       "      <th>Other</th>\n",
       "      <td>3291</td>\n",
       "      <td>1.085992</td>\n",
       "      <td>0.462143</td>\n",
       "      <td>1</td>\n",
       "      <td>15</td>\n",
       "    </tr>\n",
       "  </tbody>\n",
       "</table>\n",
       "</div>"
      ],
      "text/plain": [
       "          count      mean       std  min  max\n",
       "category                                     \n",
       "Bowl       1331  1.050338  0.235285    1    3\n",
       "Other      3291  1.085992  0.462143    1   15"
      ]
     },
     "execution_count": 117,
     "metadata": {},
     "output_type": "execute_result"
    }
   ],
   "source": [
    "def category_stats():\n",
    "    # Fournir des statistiques descriptives sur les différentes catégories d'articles\n",
    "    category_stats = chipo.groupby('category')['quantity'].agg(['count', 'mean', 'std', 'min', 'max'])\n",
    "    return category_stats\n",
    "category_stats()"
   ]
  }
 ],
 "metadata": {
  "kernelspec": {
   "display_name": "Python 3 (ipykernel)",
   "language": "python",
   "name": "python3"
  },
  "language_info": {
   "codemirror_mode": {
    "name": "ipython",
    "version": 3
   },
   "file_extension": ".py",
   "mimetype": "text/x-python",
   "name": "python",
   "nbconvert_exporter": "python",
   "pygments_lexer": "ipython3",
   "version": "3.11.4"
  }
 },
 "nbformat": 4,
 "nbformat_minor": 5
}
